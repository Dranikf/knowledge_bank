{
 "cells": [
  {
   "cell_type": "markdown",
   "id": "78652f23-3bf6-4ba8-9235-8361aa87f5d1",
   "metadata": {},
   "source": [
    "**Как пользоваться nbconvert**\n",
    "\n",
    "nbconvernt моежт быть использован как утилита командной строки или же python библиотека. Тут я буду рассматривать nbconvert как python библиотеку."
   ]
  },
  {
   "cell_type": "code",
   "execution_count": 7,
   "id": "d14a625f-6ee4-40df-983f-e59c31a73b44",
   "metadata": {},
   "outputs": [],
   "source": [
    "import nbformat\n",
    "from nbconvert import HTMLExporter\n",
    "from nbconvert import RSTExporter"
   ]
  },
  {
   "cell_type": "markdown",
   "id": "367188e0-6ca7-44ed-9b8e-575ff85a0b3a",
   "metadata": {},
   "source": [
    "# Источники\n",
    "\n",
    "- https://nbconvert.readthedocs.io/en/latest/index.html - официальная документация nbconvert.\n",
    "- https://nbconvert.readthedocs.io/en/latest/api/exporters.html#nbconvert.exporters.NotebookExporter - страница документации посвященная Exporters;"
   ]
  },
  {
   "cell_type": "markdown",
   "id": "e4c4f627-f59d-49ee-b7f8-8442cde15877",
   "metadata": {},
   "source": [
    "# Прочитать notebook"
   ]
  },
  {
   "cell_type": "markdown",
   "id": "151897f6-a2c7-4f08-893e-32b71fe2d808",
   "metadata": {},
   "source": [
    "<a id=\"botebooknode\"></a>\n",
    "Используя `nbformat.read` я могу прочесть произвольный notebook из `str`. Получается, объект типа `nbformat.notebooknode.NotebookNode`."
   ]
  },
  {
   "cell_type": "code",
   "execution_count": 13,
   "id": "23131c93-5faf-4291-855d-e9d7a0e79572",
   "metadata": {},
   "outputs": [],
   "source": [
    "# читаю notebook как str\n",
    "nbfile = open(\"XKCD_plots.ipynb\", \"r\")\n",
    "note_book_txt = nbfile.read()\n",
    "nbfile.close()\n",
    "\n",
    "# из строчки делаю nbformat.notebooknode.NotebookNode\n",
    "notebook = nbformat.reads(note_book_txt, as_version=4)"
   ]
  },
  {
   "cell_type": "markdown",
   "id": "997c1354-13c2-46d9-925a-104763d20a89",
   "metadata": {},
   "source": [
    "Этот `nbformat.notebooknode.NotebookNode` является `dict`- подобным объектом, со следующими ключами:"
   ]
  },
  {
   "cell_type": "code",
   "execution_count": 19,
   "id": "7b2ee7ee-af34-4d71-b157-3608cbcafe84",
   "metadata": {},
   "outputs": [
    {
     "data": {
      "text/plain": [
       "dict_keys(['cells', 'metadata', 'nbformat', 'nbformat_minor'])"
      ]
     },
     "execution_count": 19,
     "metadata": {},
     "output_type": "execute_result"
    }
   ],
   "source": [
    "notebook.keys()"
   ]
  },
  {
   "cell_type": "markdown",
   "id": "e0fb79c9-79bd-4073-92ab-0678dff94e5c",
   "metadata": {},
   "source": [
    "### **`'cells'`**\n",
    "позволяет достать из объекта ячейки в текстовой форме."
   ]
  },
  {
   "cell_type": "markdown",
   "id": "13610346-8d00-4295-822f-f7140064bb3f",
   "metadata": {},
   "source": [
    "Вот например ячейка с `makrdown`."
   ]
  },
  {
   "cell_type": "code",
   "execution_count": 21,
   "id": "746cb57c-d1c6-457f-adb9-1a400f1946a4",
   "metadata": {},
   "outputs": [
    {
     "data": {
      "text/plain": [
       "{'cell_type': 'markdown',\n",
       " 'metadata': {},\n",
       " 'source': '# XKCD plots in Matplotlib'}"
      ]
     },
     "execution_count": 21,
     "metadata": {},
     "output_type": "execute_result"
    }
   ],
   "source": [
    "notebook['cells'][0]"
   ]
  },
  {
   "cell_type": "markdown",
   "id": "56e62d87-8101-41ce-9801-449c44b4548c",
   "metadata": {},
   "source": [
    "А вот ячейка с кодом, где результатом становится картинка. Эта катринка если её читать как стороку представлена в `outputs`."
   ]
  },
  {
   "cell_type": "code",
   "execution_count": 29,
   "id": "ff2ce77e-0d06-4a80-897f-edd937d070bc",
   "metadata": {},
   "outputs": [
    {
     "data": {
      "text/plain": [
       "\"{'cell_type': 'code', 'execution_count': 2, 'metadata': {'collapsed': False, 'jupyter': {'outputs_hidden': False}}, 'outputs': [{'data': {'image/png': 'iVBORw0KGgoAAAANSUhEUgAAAbAAAAEgCAYAAADVKCZpAAAABHNCSVQICAgIfAhkiAAAAAlwSFlz\\\\nAAALEgAACxIB0t1+/AAAIABJREFUeJzt3Xl4zFcXB/DvhNSaPURksQURO0FFkbe11ZLal9q3KkWp\\\\nFm1p6WIpqkW19p0Q+5ZYm1BEbC2VEkEWiS1EZJVkct8/DkNIyDIzd34z5/M8edokk5kzkfmdufee\\\\ne65KCCHAGGOMKYyZ7AAYY4yxguAExhhjTJE4gTHGGFMkTmCMMcYUiRMYY4wxReIExhhjTJE4gTHG\\\\nGFMkTmCMMcYUiRMYY4wxReIExhhjTJE4gTHGGFMkTmCMMcYUiRMYM1mrV69G8+bNtX6/FStWxJEj\\\\nR/J0WwsLC0RERGg9BsZMAScwxrRMpVJBpVLl6baJiYmoWLEiAGDQoEGYOnWqTmKKiIiAmZkZsrKy\\\\nsn3d29sbK1as0MljMqZrnMAYMyEvn56Un2TLmKHhBMaMXnR0NLp27YqyZcvC3t4eY8aMyfb9L774\\\\nAra2tqhcuTICAgI0X09ISMDQoUNRvnx5ODs7Y+rUqdlGMMuWLYOHhwcsLS1Rs2ZN/P3336889n//\\\\n/YfKlStj8+bNOcZmZmaG69evY+nSpdi4cSN++uknWFhY4IMPPsjx9idPnkSjRo1gbW2Nxo0b49Sp\\\\nU5rvvTx1OW3aNPTv3x8A0KJFCwCAtbU1LCwscPr06Tf92hgzeJzAmFFTq9Xo2LEjKlWqhMjISMTE\\\\nxKBPnz6a758+fRru7u548OABJk6ciKFDh2q+N2jQILz11lu4fv06Lly4gIMHD2L58uUAAD8/P0yf\\\\nPh3r1q3D48ePsXv3btja2mZ77PPnz6Ndu3ZYtGgRevXqlWuMKpUKH330Efr27YtJkyYhMTERu3bt\\\\neuV2Dx8+RIcOHTBu3Dg8fPgQn332GTp06ID4+HjN/bw4mnrx/48fPw6AknJiYiKaNGmSn18jYwaJ\\\\nExgzaiEhIbh9+zbmzJmDEiVKoFixYvDy8tJ8v0KFChg6dChUKhUGDBiA27dv4969e7h79y78/f0x\\\\nf/58lChRAmXKlMG4cePg6+sLAFi+fDkmTZqEhg0bAgCqVKkCV1dXzf0GBQXhgw8+wLp169C+ffs8\\\\nx/u6A9L37duH6tWro2/fvjAzM0Pv3r3h7u6OPXv2vPG+Xne/fCg7U6qisgNgTJeio6NRoUIFmJnl\\\\n/F6tXLlymv8vWbIkACApKQlxcXHIyMiAo6Oj5vtZWVmaJHXr1i1UqVIlx/sUQmDJkiXw9vbWTN1p\\\\nQ2xsbLYkCVACjomJKdT98hoYUyoegTGj5uLigqioKKjV6nz/XLFixfDgwQPEx8cjPj4eCQkJuHTp\\\\nkub74eHhOf6sSqXCkiVLEBkZic8++yzPj/mmROLk5ITIyMhsX4uMjISTkxMAoFSpUkhOTtZ8786d\\\\nO2+87z///BNDhgzJc4yMGRJOYMyoNWnSBI6Ojpg8eTJSUlKQlpaGkydPvvHnHB0d0aZNG3z22WdI\\\\nTExEVlYWrl+/jmPHjgEAhg0bhrlz5+L8+fMQQiA8PBxRUVGan7ewsEBAQACOHTuGL7/8Mk+xOjg4\\\\n4MaNG7l+v3379ggLC8OmTZuQmZmJzZs348qVK+jYsSMAoF69evD19UVmZibOnj2Lbdu2aRJXmTJl\\\\nNAUjjBkLTmDMqJmZmWHPnj0IDw+Hq6srXFxcsGXLFgA5l5C/+PnatWuRnp4ODw8P2NraokePHppR\\\\nTffu3fH111/jww8/hKWlJbp27aoppnjGysoKhw4dgr+/P7799tsc43\""
      ]
     },
     "execution_count": 29,
     "metadata": {},
     "output_type": "execute_result"
    }
   ],
   "source": [
    "str(notebook['cells'][5])[:2000]"
   ]
  },
  {
   "cell_type": "markdown",
   "id": "4dde9084-6c42-4634-8023-8d840a844499",
   "metadata": {},
   "source": [
    "# Экспортировать Notebook\n",
    "\n",
    "Можно используя exporters объекты."
   ]
  },
  {
   "cell_type": "markdown",
   "id": "3f2a7432-18ae-407d-a0e3-4998b3e5d918",
   "metadata": {},
   "source": [
    "Все они содержат методы:\n",
    "\n",
    "- `from_notebook_node` - преобразует описанный [выше](#botebooknode) `nbformat.notebooknode.NotebookNode`;\n",
    "- `from_file` - преобразует объект-файл (просто окрытый в python файл);\n",
    "- `from_filename` - преобразует файл по имени в системе."
   ]
  },
  {
   "cell_type": "markdown",
   "id": "69624cf8-d70a-421e-8837-3d5fc8254698",
   "metadata": {},
   "source": [
    "### *HTMLExporter*\n",
    "\n",
    "Позволяет экспортировать файл в `html`."
   ]
  },
  {
   "cell_type": "code",
   "execution_count": 3,
   "id": "4967ac66-6ee5-4cd1-91dc-113885958133",
   "metadata": {},
   "outputs": [],
   "source": [
    "html_exporter = HTMLExporter(template_name='classic')\n",
    "(body, resources) = html_exporter.from_notebook_node(notebook)"
   ]
  },
  {
   "cell_type": "markdown",
   "id": "689e79e7-9758-4e24-a49e-2eda37a7cc2a",
   "metadata": {},
   "source": [
    "И так возвращаяется два объекта\n",
    "\n",
    "Первый это тело `html` файла, его можно сразу сохранить и получается вполне себе `html`."
   ]
  },
  {
   "cell_type": "code",
   "execution_count": 4,
   "id": "6bfbb961-d38d-4f74-abfe-517ed9292b07",
   "metadata": {},
   "outputs": [],
   "source": [
    "file = open(\"html_save.html\", \"w+\")\n",
    "file.write(body)\n",
    "file.close()"
   ]
  },
  {
   "cell_type": "markdown",
   "id": "ea86547a-26b8-4245-80d0-815d6d3f54fd",
   "metadata": {},
   "source": [
    "Воторой - пока закрытый мне `dict`-подобный объект с ресурсами."
   ]
  },
  {
   "cell_type": "markdown",
   "id": "bdc42d6a-c3ba-4853-a6c3-47a5d66bd779",
   "metadata": {},
   "source": [
    "Можно открывать html, прямо из файла используя:\n",
    "- `HTMLExporter.from_file` - извлекает notebook из отрытого объекта файла;\n",
    "- `HTMLExporter.from_finename` - извлекает notebook из файла просто по указанному имени."
   ]
  },
  {
   "cell_type": "code",
   "execution_count": 10,
   "id": "e625f30f-678a-46d0-9333-8f9383060964",
   "metadata": {},
   "outputs": [
    {
     "name": "stdout",
     "output_type": "stream",
     "text": [
      "XKCD plots in Matplotlib\n",
      "========================\n",
      "\n",
      "This notebook originally appeared as a blog post at `Pythonic\n",
      "Perambulations <http://jakevdp.github.com/blog/2012/10/07/xkcd-style-plots-in-matplotlib/>`__\n",
      "by Jake Vanderplas.\n",
      "\n",
      ".. raw:: html\n",
      "\n",
      "   <!-- PELICAN_BEGIN_SUMMARY -->\n",
      "\n",
      "*Update: the matplotlib pull request has been merged! See* `This\n",
      "post <http://jakevdp.github.io/blog/2013/07/10/XKCD-plots-in-matplotlib/>`__\n",
      "*for a description of the XKCD functionality now built-in to\n",
      "matplotlib!*\n",
      "\n",
      "One of the problems I’ve had with typical matplotlib figures is that\n",
      "everything in them is so precise, so perfect. For an example of what I\n",
      "mean, take a look at this figure:\n",
      "\n",
      ".. code:: ipython3\n",
      "\n",
      "    from IPython.display import Image\n",
      "    Image('http://jakevdp.github.com/figures/xkcd_version.png')\n",
      "\n",
      "\n",
      "\n",
      "\n",
      ".. image:: output_3_0.png\n",
      "\n",
      "\n",
      "\n",
      "Sometimes when showing schematic plots, this is the type of figure I\n",
      "want to display. But drawing it by hand is a pain: I’d rather just use\n",
      "matpl...\n",
      "[.....]\n",
      "mage:: output_3_0.png\n",
      "\n",
      "\n",
      "\n",
      "Sometimes when showing schematic plots, this is the type of figure I\n",
      "want to display. But drawing it by hand is a pain: I’d rather just use\n",
      "matplotlib. The problem is, matplotlib is a bit too precise. Attempting\n",
      "to duplicate this figure in matplotlib leads to something like this:\n",
      "\n",
      ".. code:: ipython3\n",
      "\n",
      "    Image('http://jakevdp.github.com/figures/mpl_version.png')\n",
      "\n",
      "\n",
      "\n",
      "\n",
      ".. ima...\n"
     ]
    }
   ],
   "source": [
    "# Instantiate it\n",
    "rst_exporter = RSTExporter()\n",
    "# Convert the notebook to RST format\n",
    "(body, resources) = rst_exporter.from_filename(\"XKCD_plots.ipynb\")\n",
    "\n",
    "print(body[:970] + '...')\n",
    "print('[.....]')\n",
    "print(body[800:1200] + '...')"
   ]
  }
 ],
 "metadata": {
  "kernelspec": {
   "display_name": "Python 3 (ipykernel)",
   "language": "python",
   "name": "python3"
  },
  "language_info": {
   "codemirror_mode": {
    "name": "ipython",
    "version": 3
   },
   "file_extension": ".py",
   "mimetype": "text/x-python",
   "name": "python",
   "nbconvert_exporter": "python",
   "pygments_lexer": "ipython3",
   "version": "3.10.9"
  }
 },
 "nbformat": 4,
 "nbformat_minor": 5
}
