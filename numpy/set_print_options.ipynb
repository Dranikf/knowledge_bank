{
 "cells": [
  {
   "cell_type": "markdown",
   "id": "a668d61e-36e6-4356-bda2-8e9c2cf1c746",
   "metadata": {},
   "source": [
    "**В numpy, как оказалось можно настроить вывод инофрмации на в консоль, делается это с помощью функции `set_printoptions`, которой и посвящена эта книжка**, далее я постепенно разбираю аргументы функции, распространенные и интерестные случаи из моей практики связанные с этой функцией."
   ]
  },
  {
   "cell_type": "code",
   "execution_count": 1,
   "id": "f89ae27f-3f27-468d-859d-cdc38e9a9d49",
   "metadata": {},
   "outputs": [],
   "source": [
    "import numpy as np\n",
    "\n",
    "np.random.seed(1)\n",
    "# эксперементальный набор данных, который будет исопльзоваться для описания большинства примеров\n",
    "arr = np.random.uniform(-10, 10, 20)"
   ]
  },
  {
   "cell_type": "markdown",
   "id": "f35a2b89-da58-4577-b2b9-d1a01a2aaf0b",
   "metadata": {},
   "source": [
    "# Источники информации\n",
    "\n",
    "- https://numpy.org/doc/stable/reference/generated/numpy.set_printoptions.html."
   ]
  },
  {
   "cell_type": "markdown",
   "id": "6394d61b-9376-4b7d-869b-0c52dac74589",
   "metadata": {},
   "source": [
    "# `precision`\n",
    "\n",
    "Позволяет настроить сколько знаков после запятой `numpy` будет отображать. По умолчанию 8."
   ]
  },
  {
   "cell_type": "code",
   "execution_count": 2,
   "id": "fd6077be-9887-4182-a7df-22b1bc698d94",
   "metadata": {},
   "outputs": [
    {
     "name": "stdout",
     "output_type": "stream",
     "text": [
      "precision = 3\n",
      "[-1.66   4.406 -9.998 -3.953 -7.065 -8.153 -6.275 -3.089 -2.065  0.776\n",
      " -1.616  3.704 -5.911  7.562 -9.452  3.409 -1.654  1.174 -7.192 -6.038]\n",
      "precision = 5\n",
      "[-1.65956  4.40649 -9.99771 -3.95335 -7.06488 -8.15323 -6.2748  -3.08879\n",
      " -2.06465  0.77633 -1.61611  3.70439 -5.91096  7.56235 -9.45225  3.40935\n",
      " -1.6539   1.1738  -7.19226 -6.03797]\n"
     ]
    }
   ],
   "source": [
    "print(\"precision = 3\")\n",
    "np.set_printoptions(\n",
    "    precision = 3\n",
    ")\n",
    "print(arr)\n",
    "print(\"precision = 5\")\n",
    "np.set_printoptions(\n",
    "    precision = 5\n",
    ")\n",
    "print(arr)"
   ]
  },
  {
   "cell_type": "markdown",
   "id": "b6cfe439-9644-4bdc-90f7-d62de47b99db",
   "metadata": {},
   "source": [
    "# `threshold`\n",
    "\n",
    "Позволяет настроить насколько большие массивы будут выводиться без \"сокращения\". (По умолчанию 1000)"
   ]
  },
  {
   "cell_type": "code",
   "execution_count": 3,
   "id": "70c4036e-dee9-4ae3-8f4d-2f62f1e48445",
   "metadata": {},
   "outputs": [
    {
     "name": "stdout",
     "output_type": "stream",
     "text": [
      "threshold = 20; приведёт к полному отображению массива\n",
      "[-1.65956  4.40649 -9.99771 -3.95335 -7.06488 -8.15323 -6.2748  -3.08879\n",
      " -2.06465  0.77633 -1.61611  3.70439 -5.91096  7.56235 -9.45225  3.40935\n",
      " -1.6539   1.1738  -7.19226 -6.03797]\n",
      "threshold = 19; приведёт к сокращенному отображению массива\n",
      "[-1.65956  4.40649 -9.99771 ...  1.1738  -7.19226 -6.03797]\n"
     ]
    }
   ],
   "source": [
    "print(\"threshold = 20; приведёт к полному отображению массива\")\n",
    "np.set_printoptions(threshold = 20)\n",
    "print(arr)\n",
    "print(\"threshold = 19; приведёт к сокращенному отображению массива\")\n",
    "np.set_printoptions(threshold = 19)\n",
    "print(arr)"
   ]
  },
  {
   "cell_type": "markdown",
   "id": "c84fb85b-293d-4adf-86ac-d2dda4cab064",
   "metadata": {},
   "source": [
    "# `edgeitems`\n",
    "\n",
    "Укажет сколько в сокращенном отображении массива должно элементов отображаться с каждой стороны. По умолчанию 3."
   ]
  },
  {
   "cell_type": "code",
   "execution_count": 4,
   "id": "56deb5a7-f2d8-46db-89bd-d5942629f218",
   "metadata": {},
   "outputs": [
    {
     "name": "stdout",
     "output_type": "stream",
     "text": [
      "edgeitems=3\n",
      "[-1.65956  4.40649 -9.99771 ...  1.1738  -7.19226 -6.03797]\n",
      "edgeitems=5\n",
      "[-1.65956  4.40649 -9.99771 -3.95335 -7.06488 ...  3.40935 -1.6539\n",
      "  1.1738  -7.19226 -6.03797]\n"
     ]
    }
   ],
   "source": [
    "np.set_printoptions(\n",
    "    edgeitems=3,\n",
    "    threshold=0 #для того, \n",
    "    # чтобы заставить любой массив\n",
    "    # отображаться в сокращенной форме\n",
    ")\n",
    "print(\"edgeitems=3\")\n",
    "print(arr)\n",
    "np.set_printoptions(\n",
    "    edgeitems=5\n",
    ")\n",
    "print(\"edgeitems=5\")\n",
    "print(arr)"
   ]
  },
  {
   "cell_type": "markdown",
   "id": "2631d1ba-6ee9-420a-a93d-7f348357d4ce",
   "metadata": {},
   "source": [
    "# `linewidth`\n",
    "\n",
    "Сколько символов будет отображено в каждой строке, по умолчанию используется 75. `[` и `\\n` тоже учитываются. Потому всегда получается на 3 символа из массива меньше. Похоже результат приблизительный, потому как указанное `linewidth` может быть не кратно числу символов матрицы. Более того, строки бывают разные - минусы, и значение аргумента `precision` будут влиять на длинну строк.<br>\n",
    "\n",
    "\n",
    "Вот пару примеров"
   ]
  },
  {
   "cell_type": "markdown",
   "id": "07e9924a-ce6a-43fd-9b35-ea49a887549f",
   "metadata": {},
   "source": [
    "`linewidth = 40`"
   ]
  },
  {
   "cell_type": "code",
   "execution_count": 5,
   "id": "39ca72b3-2f59-45e6-bbbf-778ea5440b64",
   "metadata": {},
   "outputs": [
    {
     "name": "stdout",
     "output_type": "stream",
     "text": [
      "[-1.65956  4.40649 -9.99771 -3.95335\n",
      " -7.06488 -8.15323 -6.2748  -3.08879\n",
      " -2.06465  0.77633 -1.61611  3.70439\n",
      " -5.91096  7.56235 -9.45225  3.40935\n",
      " -1.6539   1.1738  -7.19226 -6.03797]\n",
      "Число символов по строкам (\\n был удален)\n"
     ]
    },
    {
     "data": {
      "text/plain": [
       "[36, 36, 36, 36, 37]"
      ]
     },
     "execution_count": 5,
     "metadata": {},
     "output_type": "execute_result"
    }
   ],
   "source": [
    "np.set_printoptions(\n",
    "    linewidth = 40,\n",
    "    threshold=1000 # для того, чтобы вне зависимости\n",
    "    # от предыдущих дейсвий отображался полный массив\n",
    ")\n",
    "print(arr)\n",
    "\n",
    "print(\"Число символов по строкам (\\\\n был удален)\")\n",
    "matr_strs = str(arr).split(\"\\n\")\n",
    "[len(s) for s in matr_strs]"
   ]
  },
  {
   "cell_type": "markdown",
   "id": "67308da0-48f6-4f4d-ad96-9e498eb4b106",
   "metadata": {},
   "source": [
    "`linewidth = 20`"
   ]
  },
  {
   "cell_type": "code",
   "execution_count": 6,
   "id": "044e8ee9-099c-45a7-bbd4-5bd3da0db8fe",
   "metadata": {},
   "outputs": [
    {
     "name": "stdout",
     "output_type": "stream",
     "text": [
      "[-1.65956  4.40649\n",
      " -9.99771 -3.95335\n",
      " -7.06488 -8.15323\n",
      " -6.2748  -3.08879\n",
      " -2.06465  0.77633\n",
      " -1.61611  3.70439\n",
      " -5.91096  7.56235\n",
      " -9.45225  3.40935\n",
      " -1.6539   1.1738\n",
      " -7.19226 -6.03797]\n",
      "Число символов по строкам (\\n был удален)\n"
     ]
    },
    {
     "data": {
      "text/plain": [
       "[18, 18, 18, 18, 18, 18, 18, 18, 17, 19]"
      ]
     },
     "execution_count": 6,
     "metadata": {},
     "output_type": "execute_result"
    }
   ],
   "source": [
    "np.set_printoptions(\n",
    "    linewidth = 20,\n",
    "    threshold=1000 # для того, чтобы вне зависимости\n",
    "    # от предыдущих дейсвий отображался полный массив\n",
    ")\n",
    "print(arr)\n",
    "\n",
    "print(\"Число символов по строкам (\\\\n был удален)\")\n",
    "matr_strs = str(arr).split(\"\\n\")\n",
    "[len(s) for s in matr_strs]"
   ]
  },
  {
   "cell_type": "markdown",
   "id": "d8c5f9c0-285b-4b33-895f-3254c268cd64",
   "metadata": {},
   "source": [
    "# `suppress`\n",
    "\n",
    "Определяет, будет ли использована экспоненциальная форма записи числа. В случае `True` числа всегда будут печататьсяв привычном формате, будучи сокращенными в соответствии со значением аргумента `precision`. В случае `False`, если в массиве находится число менее 0.0001 или отношение максимального и модуля минимального элемента массива составляет более 1000, весь массив будет напечатан в экспоненциальной форме. По умолчанию всегда `False`."
   ]
  },
  {
   "cell_type": "markdown",
   "id": "76923473-696c-484c-8b28-b6f10c4416d4",
   "metadata": {},
   "source": [
    "### Одно маленькое число (<0.0001)"
   ]
  },
  {
   "cell_type": "code",
   "execution_count": 7,
   "id": "8e496654-d322-4c3b-9069-0f602f409a9a",
   "metadata": {},
   "outputs": [
    {
     "name": "stdout",
     "output_type": "stream",
     "text": [
      "=================suppress = True================\n",
      "availible number [0.0001]\n",
      "unavailible number [0.000099]\n",
      "\n",
      "\n",
      "=================suppress = False================\n",
      "availible number [0.0001]\n",
      "unavailible number [9.9e-05]\n"
     ]
    }
   ],
   "source": [
    "unavailible_number = np.array([0.000099])\n",
    "availible_number = np.array([0.0001])\n",
    "\n",
    "np.set_printoptions(\n",
    "    suppress = True,\n",
    "    linewidth = 20, # это для того, чтобы числа\n",
    "    # помещались в вывод\n",
    "    precision = 8 # это чтобы числа, которые я указал\n",
    "    # не округлились автоматически\n",
    ")\n",
    "\n",
    "print(\"=================suppress = True================\")\n",
    "print(\"availible number\", availible_number)\n",
    "print(\"unavailible number\", unavailible_number, end = \"\\n\\n\\n\")\n",
    "\n",
    "np.set_printoptions(suppress = False)\n",
    "\n",
    "print(\"=================suppress = False================\")\n",
    "print(\"availible number\", availible_number)\n",
    "print(\"unavailible number\", unavailible_number)"
   ]
  },
  {
   "cell_type": "markdown",
   "id": "6e746a01-e75d-482e-b87e-c3080e96d050",
   "metadata": {},
   "source": [
    "### Отношение максимального числа к минимальному составляет более 1000"
   ]
  },
  {
   "cell_type": "code",
   "execution_count": 19,
   "id": "6e5b575f-071e-4894-9485-a3a9d2e00a33",
   "metadata": {},
   "outputs": [
    {
     "name": "stdout",
     "output_type": "stream",
     "text": [
      "=================suppress = True==================\n",
      "unavailible arr [   1. 1001.]\n",
      "availible arr [   1. 1000.]\n",
      "\n",
      "\n",
      "=================suppress = False==================\n",
      "unavailible arr [1.000e+00\n",
      " 1.001e+03]\n",
      "availible arr [   1. 1000.]\n",
      "\n",
      "\n"
     ]
    }
   ],
   "source": [
    "availible_arr = np.array([1.0, 1000])\n",
    "unavailible_arr = np.array([1.0, 1001])\n",
    "\n",
    "np.set_printoptions(\n",
    "    suppress = True,\n",
    "    linewidth = 20, # это для того, чтобы числа\n",
    "    # помещались в вывод\n",
    "    precision = 8 # это чтобы числа, которые я указал\n",
    "    # не округлились автоматически\n",
    ")\n",
    "\n",
    "print(\"=================suppress = True==================\")\n",
    "print(\"unavailible arr\", unavailible_arr)\n",
    "print(\"availible arr\", availible_arr, end=\"\\n\\n\\n\")\n",
    "\n",
    "np.set_printoptions(suppress = False)\n",
    "print(\"=================suppress = False==================\")\n",
    "print(\"unavailible arr\", unavailible_arr)\n",
    "print(\"availible arr\", availible_arr, end=\"\\n\\n\\n\")"
   ]
  },
  {
   "cell_type": "markdown",
   "id": "88ea8c08-36c6-4957-8fd9-5de42d751c62",
   "metadata": {},
   "source": [
    "### Заметим, что это работет только для массивов типа `float`"
   ]
  },
  {
   "cell_type": "code",
   "execution_count": 26,
   "id": "5db83ac4-4d49-475c-bc0f-cd661c534a21",
   "metadata": {},
   "outputs": [
    {
     "name": "stdout",
     "output_type": "stream",
     "text": [
      "int не меняются\n",
      "[   1 1001]\n",
      "\n",
      "\n",
      "float меняется\n",
      "[1.000e+00\n",
      " 1.001e+03]\n"
     ]
    }
   ],
   "source": [
    "np.set_printoptions(suppress = False)\n",
    "\n",
    "print(\"int не меняются\")\n",
    "ints_arr = np.array([1, 1001])\n",
    "print(ints_arr, end = \"\\n\\n\\n\")\n",
    "\n",
    "floats_arr = np.array([1.0, 1001])\n",
    "print(\"float меняется\")\n",
    "print(floats_arr)"
   ]
  },
  {
   "cell_type": "markdown",
   "id": "d9234c51-5532-4d5c-b4f5-020269567012",
   "metadata": {},
   "source": [
    "# `nanstr` \n",
    "\n",
    "Позволяет настроить как будет отображен `np.NaN` в коммандном окне. По умолчанию `'nan'`."
   ]
  },
  {
   "cell_type": "code",
   "execution_count": 11,
   "id": "8ad8a738-aa21-4704-a2eb-4478796a4478",
   "metadata": {},
   "outputs": [
    {
     "data": {
      "text/plain": [
       "array([[Нет данных,         0., Нет данных,         0.],\n",
       "       [        0., Нет данных,         0., Нет данных],\n",
       "       [Нет данных,         0., Нет данных,         0.],\n",
       "       [        0., Нет данных,         0., Нет данных]])"
      ]
     },
     "execution_count": 11,
     "metadata": {},
     "output_type": "execute_result"
    }
   ],
   "source": [
    "np.set_printoptions(nanstr = \"Нет данных\")\n",
    "\n",
    "nan_arr = np.fromfunction(\n",
    "    lambda i, j: np.where(\n",
    "        (i+j)%2, 0, np.NaN\n",
    "    ),\n",
    "    (4,4)\n",
    ")\n",
    "\n",
    "nan_arr"
   ]
  },
  {
   "cell_type": "markdown",
   "id": "56b147cb-d1bd-48d3-b821-3a8c219853f2",
   "metadata": {},
   "source": [
    "# `infstr`\n",
    "\n",
    "Позволяет настроить как будет отображент np.inf в коммандном окне. По умолчанию `'inf'`"
   ]
  },
  {
   "cell_type": "code",
   "execution_count": 17,
   "id": "bc7ea88a-f573-4456-a6c4-349517c204f0",
   "metadata": {},
   "outputs": [
    {
     "data": {
      "text/plain": [
       "array([[ Бесконечность, -Бесконечность,  Бесконечность, -Бесконечность],\n",
       "       [-Бесконечность,  Бесконечность, -Бесконечность,  Бесконечность],\n",
       "       [ Бесконечность, -Бесконечность,  Бесконечность, -Бесконечность],\n",
       "       [-Бесконечность,  Бесконечность, -Бесконечность,  Бесконечность]])"
      ]
     },
     "execution_count": 17,
     "metadata": {},
     "output_type": "execute_result"
    }
   ],
   "source": [
    "np.set_printoptions(infstr = \"Бесконечность\")\n",
    "\n",
    "nan_arr = np.fromfunction(\n",
    "    lambda i, j: np.where(\n",
    "        (i+j)%2, -np.inf, np.inf\n",
    "    ),\n",
    "    (4,4)\n",
    ")\n",
    "\n",
    "nan_arr"
   ]
  },
  {
   "cell_type": "markdown",
   "id": "b19ae357-5960-4e6b-bb35-c10528497ee9",
   "metadata": {},
   "source": [
    "# `sign`\n",
    "\n",
    "Позволяет определить как будет при выводе записан символ `+` для положительных дробных чисел, может принимать значения:\n",
    "\n",
    "- `'-'` будет обозначать, что знак `+` следует просто опускать;\n",
    "- `'+'` будет обозначать, что знак `+` будет явно записан;\n",
    "- `' '` будет обозначать, что знак на месте каждого знака `+` будет помещен `' '` (пробел).\n",
    "\n",
    "По умолчанию используется значение `'-'`."
   ]
  },
  {
   "cell_type": "code",
   "execution_count": 42,
   "id": "70096041-832b-4793-9b61-643ba2126694",
   "metadata": {},
   "outputs": [
    {
     "name": "stdout",
     "output_type": "stream",
     "text": [
      "[1.]\n",
      "[+1.]\n",
      "[ 1.]\n"
     ]
    }
   ],
   "source": [
    "np.set_printoptions(\n",
    "    sign = '-',\n",
    "    linewidth = 10\n",
    ")\n",
    "print(np.array([1.0]))\n",
    "\n",
    "np.set_printoptions(sign = '+')\n",
    "print(np.array([1.0]))\n",
    "\n",
    "np.set_printoptions(sign = ' ')\n",
    "print(np.array([1.0]))"
   ]
  },
  {
   "cell_type": "markdown",
   "id": "13811ae2-b503-46f8-aea3-8d3d7c44cd14",
   "metadata": {},
   "source": [
    "### Замети, что это работает только для типа данных `float`"
   ]
  },
  {
   "cell_type": "code",
   "execution_count": 43,
   "id": "24dad885-7d79-49f9-9762-7d163d251051",
   "metadata": {},
   "outputs": [
    {
     "data": {
      "text/plain": [
       "array([1])"
      ]
     },
     "execution_count": 43,
     "metadata": {},
     "output_type": "execute_result"
    }
   ],
   "source": [
    "np.set_printoptions(sign = ' ')\n",
    "np.array([1])"
   ]
  },
  {
   "cell_type": "markdown",
   "id": "95973b38-180d-40bf-8bcb-0638c040f38d",
   "metadata": {},
   "source": [
    "### Это не работает когда `numpy` подгоняет под отображение матрицей\n",
    "\n",
    "В следующем примере, по идее, не отрицательные числа должны не иметь пробелов вместо минуса, но для того, чтобы матрица была \"ровная\", подставляется побел."
   ]
  },
  {
   "cell_type": "code",
   "execution_count": 48,
   "id": "a40758b6-45eb-4b6f-bfd0-79138f25d782",
   "metadata": {},
   "outputs": [
    {
     "data": {
      "text/plain": [
       "array([-1.65955991,  4.40648987,\n",
       "       -9.9977125 , -3.95334855,\n",
       "       -7.06488218, -8.1532281 ,\n",
       "       -6.27479577, -3.08878546,\n",
       "       -2.06465052,  0.77633468,\n",
       "       -1.61610971,  3.70439001,\n",
       "       -5.91095501,  7.56234873,\n",
       "       -9.45224814,  3.4093502 ,\n",
       "       -1.65390395,  1.17379657,\n",
       "       -7.19226123, -6.03797022])"
      ]
     },
     "execution_count": 48,
     "metadata": {},
     "output_type": "execute_result"
    }
   ],
   "source": [
    "np.set_printoptions(\n",
    "    sign = '-',\n",
    "    linewidth = 40\n",
    ")\n",
    "arr"
   ]
  }
 ],
 "metadata": {
  "kernelspec": {
   "display_name": "Python 3 (ipykernel)",
   "language": "python",
   "name": "python3"
  },
  "language_info": {
   "codemirror_mode": {
    "name": "ipython",
    "version": 3
   },
   "file_extension": ".py",
   "mimetype": "text/x-python",
   "name": "python",
   "nbconvert_exporter": "python",
   "pygments_lexer": "ipython3",
   "version": "3.10.7"
  }
 },
 "nbformat": 4,
 "nbformat_minor": 5
}
