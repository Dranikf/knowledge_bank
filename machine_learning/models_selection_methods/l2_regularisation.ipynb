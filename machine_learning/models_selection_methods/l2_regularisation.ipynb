{
 "cells": [
  {
   "cell_type": "markdown",
   "id": "30c968d0-6855-4878-b3f8-4ef6811dd661",
   "metadata": {},
   "source": [
    "**Разбор способа отбора модлеи - L2-регуляризация**"
   ]
  },
  {
   "cell_type": "code",
   "execution_count": null,
   "id": "49afa411-123c-440f-bd2c-f13ca91c3fce",
   "metadata": {},
   "outputs": [],
   "source": []
  },
  {
   "cell_type": "markdown",
   "id": "04acb7f7-9005-4e2d-baa2-c64b6ec41f02",
   "metadata": {},
   "source": [
    "# Источники\n",
    "\n",
    "- https://www.statlearning.com/ 6 глава."
   ]
  },
  {
   "cell_type": "markdown",
   "id": "a8b31211-a073-4e04-88f9-1eef086a7f01",
   "metadata": {},
   "source": [
    "# Описание\n",
    "\n",
    "При L2-регуляризации в целевую функцию метода оценки коэффициентов добавляют компоненнту:\n",
    "\n",
    "$$\\lambda\\sum_{j=1}^n\\beta^2_j$$\n",
    "\n",
    "Где:\n",
    "- $\\beta_j$ - оцениваемый коэффициент;\n",
    "- $\\lambda$ - параметр указывающий на сколько сильно следует регуляризовать модель.\n",
    "\n",
    "\n",
    "L2-регуляризация и регуляризация, в принципе, нужна для того, чтобы модель получала штраф за использование коэффициентов, которые ей на самом деле не нужны."
   ]
  },
  {
   "cell_type": "markdown",
   "id": "37d6e062-5995-4661-81f7-53f1a4351bfa",
   "metadata": {},
   "source": [
    "# Гребеньковая регрессия"
   ]
  },
  {
   "cell_type": "markdown",
   "id": "eb63a98a-1463-4a17-afde-9f229c265cbd",
   "metadata": {},
   "source": [
    "## *Описание*\n",
    "\n",
    "L2-регулялизация в сочетании с регрессионной моделью, называются **гребеньковой регрессией (ridge regression)**. Т.е. целевая функция в задаче оптимизации принимает вид:\n",
    "\n",
    "$$\\sum_{i=1}^n\\left(y_i - x_i\\beta\\right)^2 + \\lambda\\sum_{j=1}^p\\beta_j \\rightarrow min$$\n",
    "\n",
    "Где:\n",
    "- $n$ - объемы выборки;\n",
    "- $p$ - размерность данных;\n",
    "- $x_i = (x_{i1}, x_{i2}, ..., x_{ip})$ - вектор описывающий $i$-е наблюдение;\n",
    "- $\\beta = (\\beta_1, \\beta_2, ..., \\beta_p)$ - вектор оценок коэффициентов."
   ]
  }
 ],
 "metadata": {
  "kernelspec": {
   "display_name": "Python 3 (ipykernel)",
   "language": "python",
   "name": "python3"
  },
  "language_info": {
   "codemirror_mode": {
    "name": "ipython",
    "version": 3
   },
   "file_extension": ".py",
   "mimetype": "text/x-python",
   "name": "python",
   "nbconvert_exporter": "python",
   "pygments_lexer": "ipython3",
   "version": "3.10.8"
  }
 },
 "nbformat": 4,
 "nbformat_minor": 5
}
