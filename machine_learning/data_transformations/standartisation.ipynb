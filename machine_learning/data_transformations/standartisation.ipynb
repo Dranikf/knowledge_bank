{
 "cells": [
  {
   "cell_type": "markdown",
   "id": "24d21f75-c838-4951-b288-6cdf46172808",
   "metadata": {},
   "source": [
    "**Процедура стандартизации данных**"
   ]
  },
  {
   "cell_type": "code",
   "execution_count": 1,
   "id": "b6eaa08d-47a1-4e3a-8694-edeb8e368633",
   "metadata": {},
   "outputs": [],
   "source": [
    "import pandas as pd"
   ]
  },
  {
   "cell_type": "markdown",
   "id": "41fba143-f5ed-4207-974d-b0aaa7b0a4b3",
   "metadata": {},
   "source": [
    "# Определение\n",
    "\n",
    "Пусть имеется множество измерений определенного признака $x_i, i=\\overline{1,n}$. Тогда стандартизацией такого ряда называется преобразование по формуле:\n",
    "\n",
    "$$\\tilde{x}_{i} = \\frac{x_{i} - \\bar{x}}{\\sigma}. \\tag{1}$$\n",
    "\n",
    "Где:\n",
    "- $\\bar{x}$ - среднее арифметческое рассматртваемого ряда;\n",
    "- $\\sigma$ - стандартное отклонение.\n",
    "\n",
    "Получется, что выражение $(1)$ может быть переписано следующим образом:\n",
    "\n",
    "$$\\tilde{x}_{i} = \\frac{x_{i} - \\bar{x}}{\\sqrt{\\frac{1}{n} (x_i - \\bar{x})^2}}. \\tag{2}$$\n",
    "\n",
    "Иногда предпочитают не отнимать среднее арифметическое в числителе, тогда формула $(1)$ принимает вид:\n",
    "\n",
    "$$\\tilde{x}_i  = \\frac{x_i}{\\sigma}. \\tag{3}$$"
   ]
  },
  {
   "cell_type": "markdown",
   "id": "cbfa1f84-b22f-4a5f-a286-5377f120b405",
   "metadata": {},
   "source": [
    "# Свойсва результата\n",
    "\n",
    "Величина получаемая в результате применения формулы $(1)$ получает следующие свойсва:\n",
    "\n",
    "1. **Среднее артфииетисеское результата равняется 0**\n",
    "\n",
    "вафыоавдыа\n",
    "\n",
    "2. **аыавыа**"
   ]
  }
 ],
 "metadata": {
  "kernelspec": {
   "display_name": "Python 3 (ipykernel)",
   "language": "python",
   "name": "python3"
  },
  "language_info": {
   "codemirror_mode": {
    "name": "ipython",
    "version": 3
   },
   "file_extension": ".py",
   "mimetype": "text/x-python",
   "name": "python",
   "nbconvert_exporter": "python",
   "pygments_lexer": "ipython3",
   "version": "3.10.8"
  }
 },
 "nbformat": 4,
 "nbformat_minor": 5
}
