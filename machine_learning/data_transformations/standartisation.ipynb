{
 "cells": [
  {
   "cell_type": "markdown",
   "id": "24d21f75-c838-4951-b288-6cdf46172808",
   "metadata": {},
   "source": [
    "**Процедура стандартизации данных**"
   ]
  },
  {
   "cell_type": "code",
   "execution_count": 17,
   "id": "a575b8df-0761-46de-b511-bfd1547dc743",
   "metadata": {},
   "outputs": [],
   "source": [
    "import numpy as np\n",
    "import pandas as pd\n",
    "\n",
    "import matplotlib.pyplot as plt\n",
    "from sklearn.linear_model import LinearRegression\n",
    "from statsmodels.tools.tools import add_constant"
   ]
  },
  {
   "cell_type": "markdown",
   "id": "41fba143-f5ed-4207-974d-b0aaa7b0a4b3",
   "metadata": {},
   "source": [
    "# 1. Определение\n",
    "\n",
    "Пусть имеется множество измерений определенного признака $x_i, i=\\overline{1,n}$. Тогда стандартизацией такого ряда называется преобразование по формуле:\n",
    "\n",
    "$$\\tilde{x}_{i} = \\frac{x_{i} - \\bar{x}}{\\sigma_x}. \\tag{1.1}$$\n",
    "\n",
    "Где:\n",
    "- $\\bar{x}$ - среднее арифметческое рассматртваемого ряда;\n",
    "- $\\sigma_x$ - стандартное отклонение.\n",
    "\n",
    "Получется, что выражение $(1.1)$ может быть переписано следующим образом:\n",
    "\n",
    "$$\\tilde{x}_{i} = \\frac{x_{i} - \\bar{x}}{\\sqrt{\\frac{1}{n} \\sum_{i=1}^n(x_i - \\bar{x})^2}}.$$\n",
    "\n",
    "Иногда предпочитают не отнимать среднее арифметическое в числителе, тогда формула $(1.1)$ принимает вид:\n",
    "\n",
    "$$\\tilde{x}_i  = \\frac{x_i}{\\sigma}.$$"
   ]
  },
  {
   "cell_type": "markdown",
   "id": "cbfa1f84-b22f-4a5f-a286-5377f120b405",
   "metadata": {},
   "source": [
    "# Свойсва результата\n",
    "\n",
    "Величина получаемая в результате применения формулы $(1.1)$ получает следующие свойсва:\n",
    "\n",
    "1. **Среднее артиaметисеское результата равняется нулю:**\n",
    "\n",
    "$$\\frac{\\sum_{i=1}^n\\tilde{x_i}}{n} = \\frac{1}{n}\\sum_{i=1}^n \\frac{x_i - \\bar{x}}{\\sigma} = \\frac{1}{n\\sigma}\\left[\\sum_{i=1}^n x_i - \\sum_{i=1}^n\\bar{x}\\right] = \\frac{1}{n\\sigma}\\left[\\sum_{i=1}^n x_i - n\\bar{x} \\right] =\n",
    "\\frac{1}{n\\sigma}\\left[ \\sum_{i=1}^n x_i - n \\sum_{i=1}^n\\frac{x_i}{n} \\right] = 0.$$\n",
    "\n",
    "2. **Стандаратное отклонение равняется единице:**\n",
    "\n",
    "Запишем стандартное отлонение $\\tilde{x}_i$:\n",
    "\n",
    "$$\\sum_{i=1}^n \\frac{\\tilde{x}_i - \\bar{\\tilde{x}}_i}{n}$$\n",
    "\n",
    "Но читвая результаты пункта 1 ($\\bar{\\tilde{x}}_i = 0$), получаем:\n",
    "\n",
    "\n",
    "$$\\sum_{i=1}^n \\frac{\\tilde{x}_i}{n} = \n",
    "\\frac{1}{n}\\sum_{i=1}^n\\left[ \\frac{x_i-\\bar{x}}{\\sqrt{\\frac{1}{n} \\sum_{i=1}^n (x_i - \\bar{x})^2}} \\right]^2 = \n",
    "\\frac{1}{n}\\sum_{i=1}^n\\left[ \\frac{(x_i-\\bar{x})^2}{\\frac{1}{n} \\sum_{i=1}^n (x_i - \\bar{x})^2} \\right] = \n",
    "\\frac{1}{n}\\left[ \\frac{\\sum_{i=1}^n(x_i-\\bar{x})^2}{\\frac{1}{n} \\sum_{i=1}^n (x_i - \\bar{x})^2} \\right] = \\frac{n}{n} = 1.$$"
   ]
  },
  {
   "cell_type": "markdown",
   "id": "8800b3f5-27e1-46dc-a65c-e2c0ccf24d04",
   "metadata": {},
   "source": [
    "# Влияние на коээфициенты моделей"
   ]
  },
  {
   "cell_type": "markdown",
   "id": "1ab786b9-74a6-4ce3-94be-6abb28a7ae89",
   "metadata": {},
   "source": [
    "## Линейная регрессия\n",
    "\n",
    "Модель на исходнынх данных в матричных обозначениях примет вид:\n",
    "\n",
    "$$\\hat{y} = b X.$$\n",
    "\n",
    "Где:\n",
    "- $X$ - факторная матрица;\n",
    "- $\\hat{y}$ - вектор столбец предсказаний модели;\n",
    "- $b$ - вектор строка оценк коэффициентов модели.\n",
    "\n",
    "Тогда модель на стандартизированных данных примет вид:\n",
    "\n",
    "$$\\hat{y} = \\tilde{b} \\tilde{X}.$$\n",
    "\n",
    "Где:\n",
    "- $\\tilde{X}$ - стандартизированная матрица предикоторов;\n",
    "- $\\tilde{b}$ - оценки коэффициентов полученные при использовании стантатицованной фактороной матрицы.\n",
    "\n",
    "Уточним, что факторную матрицу можно переписать:\n",
    "$$\\tilde{X} = \\left(\\begin{array}\\\\\n",
    "    x_{11}/\\sigma_{x_1}&x_{12}/\\sigma_{x_2} & \\cdots & x_{1p}/\\sigma_{x_p}\\\\\n",
    "    x_{21}/\\sigma_{x_1}&x_{22}/\\sigma_{x_2} & \\cdots & x_{2p}/\\sigma_{x_p}\\\\\n",
    "    \\vdots & \\vdots & \\ddots & \\vdots\\\\\n",
    "    x_{n1}/\\sigma_{x_1}&x_{n2}/\\sigma_{x_2} & \\cdots & x_{np}/\\sigma_{x_p}\\\\\n",
    "\\end{array}\\right)$$\n",
    "\n",
    "Где:\n",
    "- $p$ - число переменных модели;\n",
    "- $\\sigma_{x_j}$ - стандартное отклоненение $j$-й переменной.\n",
    "\n",
    "Такая матрица раскладывается:"
   ]
  },
  {
   "cell_type": "markdown",
   "id": "75bfdeba-ac7f-4c97-b7d6-2b7e717e52ca",
   "metadata": {},
   "source": [
    "Рассмотрим линейную взаимосвязь без свободного члена."
   ]
  },
  {
   "cell_type": "code",
   "execution_count": 19,
   "id": "15eb3950-3bea-4e36-8a30-8b08518b9ac0",
   "metadata": {},
   "outputs": [],
   "source": [
    "n = 200\n",
    "np.random.seed(15)\n",
    "\n",
    "x = pd.DataFrame({\n",
    "    \"x1\":np.random.normal(0, 0.3, n),\n",
    "    \"x2\":np.random.normal(0, 3, n)\n",
    "})\n",
    "\n",
    "y = x[\"x1\"]*3 + x[\"x2\"]*2 + (np.random.rand(n)-0.5) + 3"
   ]
  },
  {
   "cell_type": "code",
   "execution_count": 51,
   "id": "fa0da57e-95c6-4221-b3ff-0028a678718d",
   "metadata": {},
   "outputs": [
    {
     "data": {
      "text/plain": [
       "array([[ 521.42148362],\n",
       "       [  25.0424286 ],\n",
       "       [3288.33815164]])"
      ]
     },
     "execution_count": 51,
     "metadata": {},
     "output_type": "execute_result"
    }
   ],
   "source": [
    "np.dot(np.transpose(np_x), np_y)"
   ]
  },
  {
   "cell_type": "code",
   "execution_count": 52,
   "id": "01d4a036-c9f3-4445-baa3-773552972a36",
   "metadata": {},
   "outputs": [
    {
     "data": {
      "text/plain": [
       "array([[2.95566332],\n",
       "       [3.13373587],\n",
       "       [2.00359775]])"
      ]
     },
     "execution_count": 52,
     "metadata": {},
     "output_type": "execute_result"
    }
   ],
   "source": [
    "np_y = y.to_numpy().reshape([n,1])\n",
    "np_x = add_constant(x).to_numpy()\n",
    "np.dot(\n",
    "    np.linalg.inv(\n",
    "        np.dot(np.transpose(np_x), np_x)\n",
    "    ),\n",
    "    np.dot(np.transpose(np_x), np_y)\n",
    ")"
   ]
  },
  {
   "cell_type": "markdown",
   "id": "514ccefa-86d5-47f2-a22c-407906e4f4d4",
   "metadata": {},
   "source": [
    "Коэффициент при использовании исходных данных примет вид:"
   ]
  },
  {
   "cell_type": "code",
   "execution_count": 20,
   "id": "09da221d-f2e3-4cf2-8854-939bd3188c11",
   "metadata": {},
   "outputs": [
    {
     "data": {
      "text/plain": [
       "array([2.95566332, 3.13373587, 2.00359775])"
      ]
     },
     "execution_count": 20,
     "metadata": {},
     "output_type": "execute_result"
    }
   ],
   "source": [
    "basic_model = LinearRegression(fit_intercept = False).fit(\n",
    "    add_constant(x), y)\n",
    "basic_model.coef_"
   ]
  },
  {
   "cell_type": "markdown",
   "id": "15e9804f-6e74-482a-a8c7-627d4bfcc2a4",
   "metadata": {},
   "source": [
    "Коэффициент при использованнии стандатризированных данных примет вид:"
   ]
  },
  {
   "cell_type": "code",
   "execution_count": 23,
   "id": "9a9fc0d9-e990-4189-b1c5-e8880baf63b2",
   "metadata": {},
   "outputs": [
    {
     "data": {
      "text/plain": [
       "array([2.60710742, 0.95731566, 5.8421477 ])"
      ]
     },
     "execution_count": 23,
     "metadata": {},
     "output_type": "execute_result"
    }
   ],
   "source": [
    "# стандартизованная модель\n",
    "x_stand = (x-x.mean())/np.std(x)\n",
    "\n",
    "stand_model = LinearRegression(fit_intercept = False).fit(\n",
    "    add_constant(x_stand), y\n",
    ")\n",
    "\n",
    "stand_model.coef_"
   ]
  },
  {
   "cell_type": "markdown",
   "id": "d82bd335-0583-4048-8b95-527b533d7c4e",
   "metadata": {},
   "source": [
    "Или, приводя коэффициент к использованию на исходных данных."
   ]
  },
  {
   "cell_type": "code",
   "execution_count": 28,
   "id": "7701d8de-2052-426a-ad59-50f436acfd9a",
   "metadata": {},
   "outputs": [
    {
     "data": {
      "text/plain": [
       "array([2.60710742, 3.12589172, 1.99858248])"
      ]
     },
     "execution_count": 28,
     "metadata": {},
     "output_type": "execute_result"
    }
   ],
   "source": [
    "stand_model.coef_/np.concatenate([[1], x.std().to_numpy()])"
   ]
  },
  {
   "cell_type": "markdown",
   "id": "e1bd1467-5d7b-4fc6-9839-f062e2cf7e4e",
   "metadata": {},
   "source": [
    "Коэффициенты очень близки!"
   ]
  }
 ],
 "metadata": {
  "kernelspec": {
   "display_name": "Python 3 (ipykernel)",
   "language": "python",
   "name": "python3"
  },
  "language_info": {
   "codemirror_mode": {
    "name": "ipython",
    "version": 3
   },
   "file_extension": ".py",
   "mimetype": "text/x-python",
   "name": "python",
   "nbconvert_exporter": "python",
   "pygments_lexer": "ipython3",
   "version": "3.10.8"
  }
 },
 "nbformat": 4,
 "nbformat_minor": 5
}
