{
 "cells": [
  {
   "cell_type": "markdown",
   "id": "24d21f75-c838-4951-b288-6cdf46172808",
   "metadata": {},
   "source": [
    "**Процедура стандартизации данных**"
   ]
  },
  {
   "cell_type": "code",
   "execution_count": 1,
   "id": "a575b8df-0761-46de-b511-bfd1547dc743",
   "metadata": {},
   "outputs": [],
   "source": [
    "import numpy as np\n",
    "\n",
    "import matplotlib.pyplot as plt\n",
    "from sklearn.linear_model import LinearRegression"
   ]
  },
  {
   "cell_type": "markdown",
   "id": "41fba143-f5ed-4207-974d-b0aaa7b0a4b3",
   "metadata": {},
   "source": [
    "# Определение\n",
    "\n",
    "Пусть имеется множество измерений определенного признака $x_i, i=\\overline{1,n}$. Тогда стандартизацией такого ряда называется преобразование по формуле:\n",
    "\n",
    "$$\\tilde{x}_{i} = \\frac{x_{i} - \\bar{x}}{\\sigma_x}. \\tag{1}$$\n",
    "\n",
    "Где:\n",
    "- $\\bar{x}$ - среднее арифметческое рассматртваемого ряда;\n",
    "- $\\sigma_x$ - стандартное отклонение.\n",
    "\n",
    "Получется, что выражение $(1)$ может быть переписано следующим образом:\n",
    "\n",
    "$$\\tilde{x}_{i} = \\frac{x_{i} - \\bar{x}}{\\sqrt{\\frac{1}{n} \\sum_{i=1}^n(x_i - \\bar{x})^2}}. \\tag{2}$$\n",
    "\n",
    "Иногда предпочитают не отнимать среднее арифметическое в числителе, тогда формула $(1)$ принимает вид:\n",
    "\n",
    "$$\\tilde{x}_i  = \\frac{x_i}{\\sigma}. \\tag{3}$$"
   ]
  },
  {
   "cell_type": "markdown",
   "id": "cbfa1f84-b22f-4a5f-a286-5377f120b405",
   "metadata": {},
   "source": [
    "# Свойсва результата\n",
    "\n",
    "Величина получаемая в результате применения формулы $(1)$ получает следующие свойсва:\n",
    "\n",
    "1. **Среднее артиaметисеское результата равняется нулю:**\n",
    "\n",
    "$$\\frac{\\sum_{i=1}^n\\tilde{x_i}}{n} = \\frac{1}{n}\\sum_{i=1}^n \\frac{x_i - \\bar{x}}{\\sigma} = \\frac{1}{n\\sigma}\\left[\\sum_{i=1}^n x_i - \\sum_{i=1}^n\\bar{x}\\right] = \\frac{1}{n\\sigma}\\left[\\sum_{i=1}^n x_i - n\\bar{x} \\right] =\n",
    "\\frac{1}{n\\sigma}\\left[ \\sum_{i=1}^n x_i - n \\sum_{i=1}^n\\frac{x_i}{n} \\right] = 0.$$\n",
    "\n",
    "2. **Стандаратное отклонение равняется единице:**\n",
    "\n",
    "Запишем стандартное отлонение $\\tilde{x}_i$:\n",
    "\n",
    "$$\\sum_{i=1}^n \\frac{\\tilde{x}_i - \\bar{\\tilde{x}}_i}{n}$$\n",
    "\n",
    "Но читвая результаты пункта 1 ($\\bar{\\tilde{x}}_i = 0$), получаем:\n",
    "\n",
    "\n",
    "$$\\sum_{i=1}^n \\frac{\\tilde{x}_i}{n} = \n",
    "\\frac{1}{n}\\sum_{i=1}^n\\left[ \\frac{x_i-\\bar{x}}{\\sqrt{\\frac{1}{n} \\sum_{i=1}^n (x_i - \\bar{x})^2}} \\right]^2 = \n",
    "\\frac{1}{n}\\sum_{i=1}^n\\left[ \\frac{(x_i-\\bar{x})^2}{\\frac{1}{n} \\sum_{i=1}^n (x_i - \\bar{x})^2} \\right] = \n",
    "\\frac{1}{n}\\left[ \\frac{\\sum_{i=1}^n(x_i-\\bar{x})^2}{\\frac{1}{n} \\sum_{i=1}^n (x_i - \\bar{x})^2} \\right] = \\frac{n}{n} = 1.$$"
   ]
  },
  {
   "cell_type": "markdown",
   "id": "8800b3f5-27e1-46dc-a65c-e2c0ccf24d04",
   "metadata": {},
   "source": [
    "# Влияние на коээфициенты моделей"
   ]
  },
  {
   "cell_type": "markdown",
   "id": "1ab786b9-74a6-4ce3-94be-6abb28a7ae89",
   "metadata": {},
   "source": [
    "Рассмотрим линейную регрессию с одной объясняющей переменной.\n",
    "\n",
    "Модель на исходных данных примет вид:\n",
    "\n",
    "$$\\hat{y}_i = b + ax_i$$\n",
    "\n",
    "$$\\tilde{x_i}\\tilde{b}$$"
   ]
  },
  {
   "cell_type": "markdown",
   "id": "75bfdeba-ac7f-4c97-b7d6-2b7e717e52ca",
   "metadata": {},
   "source": [
    "Рассмотрим линейную взаимосвязь без свободного члена."
   ]
  },
  {
   "cell_type": "code",
   "execution_count": 2,
   "id": "15eb3950-3bea-4e36-8a30-8b08518b9ac0",
   "metadata": {},
   "outputs": [],
   "source": [
    "n = 200\n",
    "np.random.seed(15)\n",
    "\n",
    "x = np.random.normal(0 , 0.3 , n)\n",
    "y = x*3 + (np.random.rand(n)-0.5) + 3"
   ]
  },
  {
   "cell_type": "markdown",
   "id": "514ccefa-86d5-47f2-a22c-407906e4f4d4",
   "metadata": {},
   "source": [
    "Коэффициент при использовании исходных данных примет вид:"
   ]
  },
  {
   "cell_type": "code",
   "execution_count": 3,
   "id": "09da221d-f2e3-4cf2-8854-939bd3188c11",
   "metadata": {},
   "outputs": [
    {
     "data": {
      "text/plain": [
       "array([3.10599648])"
      ]
     },
     "execution_count": 3,
     "metadata": {},
     "output_type": "execute_result"
    }
   ],
   "source": [
    "# базовая модель\n",
    "basic_model = LinearRegression().fit(x.reshape([n,1]), y)\n",
    "\n",
    "basic_model.coef_"
   ]
  },
  {
   "cell_type": "markdown",
   "id": "15e9804f-6e74-482a-a8c7-627d4bfcc2a4",
   "metadata": {},
   "source": [
    "Коэффициент при использованнии стандатризированных данных примет вид:"
   ]
  },
  {
   "cell_type": "code",
   "execution_count": 4,
   "id": "9a9fc0d9-e990-4189-b1c5-e8880baf63b2",
   "metadata": {},
   "outputs": [
    {
     "data": {
      "text/plain": [
       "array([0.94884164])"
      ]
     },
     "execution_count": 4,
     "metadata": {},
     "output_type": "execute_result"
    }
   ],
   "source": [
    "# стандартизованная модель\n",
    "x_stand = (x-np.mean(x))/np.std(x)\n",
    "\n",
    "stand_model = LinearRegression().fit(x_stand.reshape([n,1]), y)\n",
    "\n",
    "stand_model.coef_"
   ]
  },
  {
   "cell_type": "markdown",
   "id": "d82bd335-0583-4048-8b95-527b533d7c4e",
   "metadata": {},
   "source": [
    "Или, приводя коэффициент к использованию на исходных данных."
   ]
  },
  {
   "cell_type": "code",
   "execution_count": 5,
   "id": "7701d8de-2052-426a-ad59-50f436acfd9a",
   "metadata": {},
   "outputs": [
    {
     "data": {
      "text/plain": [
       "array([3.10599648])"
      ]
     },
     "execution_count": 5,
     "metadata": {},
     "output_type": "execute_result"
    }
   ],
   "source": [
    "stand_model.coef_/np.std(x)"
   ]
  },
  {
   "cell_type": "markdown",
   "id": "e1bd1467-5d7b-4fc6-9839-f062e2cf7e4e",
   "metadata": {},
   "source": [
    "Коэффициенты очень близки!"
   ]
  }
 ],
 "metadata": {
  "kernelspec": {
   "display_name": "Python 3 (ipykernel)",
   "language": "python",
   "name": "python3"
  },
  "language_info": {
   "codemirror_mode": {
    "name": "ipython",
    "version": 3
   },
   "file_extension": ".py",
   "mimetype": "text/x-python",
   "name": "python",
   "nbconvert_exporter": "python",
   "pygments_lexer": "ipython3",
   "version": "3.10.8"
  }
 },
 "nbformat": 4,
 "nbformat_minor": 5
}
