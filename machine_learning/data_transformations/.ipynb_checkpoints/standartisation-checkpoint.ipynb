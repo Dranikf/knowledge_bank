{
 "cells": [
  {
   "cell_type": "markdown",
   "id": "24d21f75-c838-4951-b288-6cdf46172808",
   "metadata": {},
   "source": [
    "**Процедура стандартизации данных**"
   ]
  },
  {
   "cell_type": "code",
   "execution_count": 74,
   "id": "a575b8df-0761-46de-b511-bfd1547dc743",
   "metadata": {},
   "outputs": [],
   "source": [
    "import numpy as np\n",
    "np.random.seed(10)\n",
    "\n",
    "import matplotlib.pyplot as plt\n",
    "from sklearn.linear_model import LinearRegression"
   ]
  },
  {
   "cell_type": "markdown",
   "id": "41fba143-f5ed-4207-974d-b0aaa7b0a4b3",
   "metadata": {},
   "source": [
    "# Определение\n",
    "\n",
    "Пусть имеется множество измерений определенного признака $x_i, i=\\overline{1,n}$. Тогда стандартизацией такого ряда называется преобразование по формуле:\n",
    "\n",
    "$$\\tilde{x}_{i} = \\frac{x_{i} - \\bar{x}}{\\sigma}. \\tag{1}$$\n",
    "\n",
    "Где:\n",
    "- $\\bar{x}$ - среднее арифметческое рассматртваемого ряда;\n",
    "- $\\sigma$ - стандартное отклонение.\n",
    "\n",
    "Получется, что выражение $(1)$ может быть переписано следующим образом:\n",
    "\n",
    "$$\\tilde{x}_{i} = \\frac{x_{i} - \\bar{x}}{\\sqrt{\\frac{1}{n} \\sum_{i=1}^n(x_i - \\bar{x})^2}}. \\tag{2}$$\n",
    "\n",
    "Иногда предпочитают не отнимать среднее арифметическое в числителе, тогда формула $(1)$ принимает вид:\n",
    "\n",
    "$$\\tilde{x}_i  = \\frac{x_i}{\\sigma}. \\tag{3}$$"
   ]
  },
  {
   "cell_type": "markdown",
   "id": "cbfa1f84-b22f-4a5f-a286-5377f120b405",
   "metadata": {},
   "source": [
    "# Свойсва результата\n",
    "\n",
    "Величина получаемая в результате применения формулы $(1)$ получает следующие свойсва:\n",
    "\n",
    "1. **Среднее артиaметисеское результата равняется нулю:**\n",
    "\n",
    "$$\\frac{\\sum_{i=1}^n\\tilde{x_i}}{n} = \\frac{1}{n}\\sum_{i=1}^n \\frac{x_i - \\bar{x}}{\\sigma} = \\frac{1}{n\\sigma}\\left[\\sum_{i=1}^n x_i - \\sum_{i=1}^n\\bar{x}\\right] = \\frac{1}{n\\sigma}\\left[\\sum_{i=1}^n x_i - n\\bar{x} \\right] =\n",
    "\\frac{1}{n\\sigma}\\left[ \\sum_{i=1}^n x_i - n \\sum_{i=1}^n\\frac{x_i}{n} \\right] = 0.$$\n",
    "\n",
    "2. **Стандаратное отклонение равняется единице:**\n",
    "\n",
    "Запишем стандартное отлонение $\\tilde{x}_i$:\n",
    "\n",
    "$$\\sum_{i=1}^n \\frac{\\tilde{x}_i - \\bar{\\tilde{x}}_i}{n}$$\n",
    "\n",
    "Но читвая результаты пункта 1 ($\\bar{\\tilde{x}}_i = 0$), получаем:\n",
    "\n",
    "\n",
    "$$\\sum_{i=1}^n \\frac{\\tilde{x}_i}{n} = \n",
    "\\frac{1}{n}\\sum_{i=1}^n\\left[ \\frac{x_i-\\bar{x}}{\\sqrt{\\frac{1}{n} \\sum_{i=1}^n (x_i - \\bar{x})^2}} \\right]^2 = \n",
    "\\frac{1}{n}\\sum_{i=1}^n\\left[ \\frac{(x_i-\\bar{x})^2}{\\frac{1}{n} \\sum_{i=1}^n (x_i - \\bar{x})^2} \\right] = \n",
    "\\frac{1}{n}\\left[ \\frac{\\sum_{i=1}^n(x_i-\\bar{x})^2}{\\frac{1}{n} \\sum_{i=1}^n (x_i - \\bar{x})^2} \\right] = \\frac{n}{n} = 1.$$"
   ]
  },
  {
   "cell_type": "markdown",
   "id": "cce3b153-1e1f-4dc7-8d2d-ec2a24fbab2b",
   "metadata": {},
   "source": [
    "# Влияние на коээфициенты моделей\n",
    "\n",
    "## Линейная регрессия"
   ]
  },
  {
   "cell_type": "code",
   "execution_count": 90,
   "id": "15eb3950-3bea-4e36-8a30-8b08518b9ac0",
   "metadata": {},
   "outputs": [],
   "source": [
    "n = 200\n",
    "\n",
    "x = np.random.normal(0 , 0.3 , n)\n",
    "y = x*3 + np.random.rand(n)-0.5"
   ]
  },
  {
   "cell_type": "code",
   "execution_count": 94,
   "id": "09da221d-f2e3-4cf2-8854-939bd3188c11",
   "metadata": {},
   "outputs": [
    {
     "data": {
      "text/plain": [
       "array([3.12088719])"
      ]
     },
     "execution_count": 94,
     "metadata": {},
     "output_type": "execute_result"
    }
   ],
   "source": [
    "# базовая модель\n",
    "basic_model = LinearRegression(\n",
    "    fit_intercept = False\n",
    ").fit(x.reshape([n,1]), y)\n",
    "\n",
    "basic_model.coef_"
   ]
  },
  {
   "cell_type": "code",
   "execution_count": 97,
   "id": "9a9fc0d9-e990-4189-b1c5-e8880baf63b2",
   "metadata": {},
   "outputs": [
    {
     "data": {
      "text/plain": [
       "array([0.8638951])"
      ]
     },
     "execution_count": 97,
     "metadata": {},
     "output_type": "execute_result"
    }
   ],
   "source": [
    "# стандартизованная модель\n",
    "x_stand = (x-np.mean(x))/np.std(x)\n",
    "\n",
    "stand_model = LinearRegression(\n",
    "    fit_intercept = False\n",
    ").fit(x_stand.reshape([n,1]), y)\n",
    "\n",
    "stand_model.coef_"
   ]
  },
  {
   "cell_type": "code",
   "execution_count": 99,
   "id": "7701d8de-2052-426a-ad59-50f436acfd9a",
   "metadata": {},
   "outputs": [
    {
     "data": {
      "text/plain": [
       "array([3.10623359])"
      ]
     },
     "execution_count": 99,
     "metadata": {},
     "output_type": "execute_result"
    }
   ],
   "source": [
    "stand_model.coef_/np.std(x)"
   ]
  },
  {
   "cell_type": "code",
   "execution_count": 93,
   "id": "5a169831-5981-42c9-baf2-5b1879dc665f",
   "metadata": {},
   "outputs": [
    {
     "data": {
      "text/plain": [
       "array([3.12088719])"
      ]
     },
     "execution_count": 93,
     "metadata": {},
     "output_type": "execute_result"
    },
    {
     "data": {
      "image/png": "[encoded data removed]",
      "text/plain": [
       "<Figure size 1080x720 with 1 Axes>"
      ]
     },
     "metadata": {
      "needs_background": "light"
     },
     "output_type": "display_data"
    }
   ],
   "source": [
    "plot_x_range = np.linspace(np.min(x), np.max(x), 20)\n",
    "\n",
    "plt.figure(figsize = [15,10])\n",
    "plt.scatter(x,y)\n",
    "plt.plot(\n",
    "    plot_x_range,\n",
    "    basic_model.predict(plot_x_range.reshape([20,1])),\n",
    "    color = \"red\"\n",
    ")"
   ]
  },
  {
   "cell_type": "markdown",
   "id": "c8ea3d97-0982-4913-ad0a-cf978a808f73",
   "metadata": {},
   "source": [
    "Рассмотрис взаимо"
   ]
  },
  {
   "cell_type": "code",
   "execution_count": 54,
   "id": "92befc96-fd67-40cd-8f13-91ef289ee4e3",
   "metadata": {},
   "outputs": [
    {
     "data": {
      "text/plain": [
       "array([[2.0046613 , 1.99999652]])"
      ]
     },
     "execution_count": 54,
     "metadata": {},
     "output_type": "execute_result"
    }
   ],
   "source": [
    "import numpy as np\n",
    "\n",
    "\n",
    "np.random.seed(10)\n",
    "\n",
    "\n",
    "n = 200\n",
    "x1 = np.random.normal(0, 10, [n,1])\n",
    "x2 = np.random.normal(0, 100, [n,1])\n",
    "\n",
    "y = 2*x1 + 2*x2 + np.random.uniform(0,1,[n,1])\n",
    "model = LinearRegression(\n",
    "    fit_intercept = False\n",
    ").fit(\n",
    "    np.concatenate([x1,x2], axis = 1), y\n",
    ")\n",
    "model.coef_"
   ]
  },
  {
   "cell_type": "code",
   "execution_count": 59,
   "id": "847d012c-3e44-42d9-890f-f6a3681212ae",
   "metadata": {},
   "outputs": [
    {
     "data": {
      "text/plain": [
       "array([[ 19.53528494, 184.9515684 ]])"
      ]
     },
     "execution_count": 59,
     "metadata": {},
     "output_type": "execute_result"
    }
   ],
   "source": [
    "x1_stand = (x1 - np.mean(x1))/np.std(x1)\n",
    "x2_stand = (x2 - np.mean(x2))/np.std(x2)\n",
    "\n",
    "model = LinearRegression(\n",
    "    fit_intercept = False\n",
    ").fit(\n",
    "    np.concatenate([x1_stand,x2_stand], axis = 1), y\n",
    ")\n",
    "model.coef_"
   ]
  }
 ],
 "metadata": {
  "kernelspec": {
   "display_name": "Python 3 (ipykernel)",
   "language": "python",
   "name": "python3"
  },
  "language_info": {
   "codemirror_mode": {
    "name": "ipython",
    "version": 3
   },
   "file_extension": ".py",
   "mimetype": "text/x-python",
   "name": "python",
   "nbconvert_exporter": "python",
   "pygments_lexer": "ipython3",
   "version": "3.10.8"
  }
 },
 "nbformat": 4,
 "nbformat_minor": 5
}
