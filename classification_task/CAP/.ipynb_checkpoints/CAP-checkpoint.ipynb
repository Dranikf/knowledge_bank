{
 "cells": [
  {
   "cell_type": "markdown",
   "id": "7cff05c5-97e1-46ea-b51e-79a9aa94c9c8",
   "metadata": {},
   "source": [
    "**Как работает CAP кривая**\n",
    "\n",
    "Источники:\n",
    "\n",
    "- https://en.wikipedia.org/wiki/Cumulative_accuracy_profile - статься на википедии посвященная CAP кливой;\n",
    "- https://medium.com/geekculture/classification-model-performance-evaluation-using-auc-roc-and-cap-curves-66a1b3fc0480 - простенькая статейка но с примерами кода на `python3`."
   ]
  },
  {
   "cell_type": "markdown",
   "id": "765be3b7-62c5-48c5-aec9-a2c2999caa5f",
   "metadata": {},
   "source": [
    "Бибилиотеки"
   ]
  },
  {
   "cell_type": "code",
   "execution_count": 1,
   "id": "377c64cc-7224-467d-aeed-ea040dab1ce0",
   "metadata": {},
   "outputs": [],
   "source": [
    "import pandas as pd\n",
    "import numpy as np\n",
    "\n",
    "import matplotlib.pyplot as plt\n",
    "\n",
    "from sklearn.linear_model import LogisticRegression\n",
    "from sklearn.ensemble import RandomForestClassifier\n",
    "from sklearn.model_selection import train_test_split\n",
    "from sklearn.metrics import accuracy_score\n",
    "\n",
    "from sklearn.metrics import auc"
   ]
  },
  {
   "cell_type": "markdown",
   "id": "da7d7932-93a2-4b16-a6dc-687a9aed0b79",
   "metadata": {},
   "source": [
    "# Определение CAP кривой"
   ]
  },
  {
   "cell_type": "markdown",
   "id": "4f104afa-0bc0-47d8-bd97-8c27ef89d449",
   "metadata": {},
   "source": [
    "**CAP кривая** представляет собой кумулятивное число положительных исходов по оси ординат по отношению к соответствующему кумулятивному числу классифицирующего параметра по оси абсцысс.<br>"
   ]
  },
  {
   "cell_type": "markdown",
   "id": "797edc44-8de8-486f-8024-4d7578e8e3df",
   "metadata": {
    "tags": []
   },
   "source": [
    "### Базовое понимае CAP кривой на примере"
   ]
  },
  {
   "cell_type": "markdown",
   "id": "002e880d-8b88-4f7b-81ad-7318bbb8255c",
   "metadata": {},
   "source": [
    "**Например**, пусть некоторая модель предсказывает вероятности $\\hat{p}_i$ того, что $y_i=1$ (у $i$-го клиента положительный исход, проявление признака). Допустим в тестовой выборке у нас 5 наблюдений имеются предсказания для них и настоящий класс:\n",
    "\n",
    "| $\\hat{p}_i$ | $$y_i$$ |\n",
    "| ----------- | ----- |\n",
    "|     0.2     |   1   |\n",
    "|     0.6     |   0   |\n",
    "|     0.8     |   1   |\n",
    "|     0.7     |   1   |\n",
    "|     0.4     |   0   |\n",
    "\n",
    "\n",
    "Для того чтобы построить CAP кривую надо:<br>\n",
    "1\\. Отсортировать наблюдения по убыванию $\\hat{p}_i$;\n",
    "\n",
    "| $\\hat{p}_i$ | $$y_i$$ |\n",
    "| ----------- | ----- |\n",
    "|     0.8     |   1   |\n",
    "|     0.7     |   1   |\n",
    "|     0.6     |   0   |\n",
    "|     0.4     |   0   |\n",
    "|     0.2     |   1   |\n",
    "\n",
    "2\\. Пронумеровать каждое наблюедение начиная от 1;\n",
    "\n",
    "\n",
    "|$i$| $\\hat{p}_i$ | $$y_i$$ |\n",
    "|-| ----------- | ----- |\n",
    "|1|     0.8     |   1   |\n",
    "|2|     0.7     |   1   |\n",
    "|3|     0.6     |   0   |\n",
    "|4|     0.4     |   0   |\n",
    "|5|     0.2     |   1   |\n",
    "\n",
    "3\\. Вычислить кумулятивную сумму $y_i$ ($\\hat{S}_{\\hat{y}}$);\n",
    "\n",
    "|$i$| $\\hat{p}_i$ | $$y_i$$ |$$\\hat{S}_{\\hat{y}}$$|\n",
    "|-| ----------- | ----- |---------------------|\n",
    "|1|     0.8     |   1   |   1                 |\n",
    "|2|     0.7     |   1   |   2                 |\n",
    "|3|     0.6     |   0   |   2                 |\n",
    "|4|     0.4     |   0   |   2                 |\n",
    "|5|     0.2     |   1   |   3                 |\n",
    "\n",
    "Начиная с точки (0,0)  и продолжая пременными $i$ и $\\hat{S}_{\\hat{y}}$ на график наносят CAP кривую."
   ]
  },
  {
   "cell_type": "code",
   "execution_count": 2,
   "id": "eabaab60-9367-4795-b92c-7eafe4622976",
   "metadata": {},
   "outputs": [
    {
     "data": {
      "image/png": "[encoded data removed]",
      "text/plain": [
       "<Figure size 720x504 with 1 Axes>"
      ]
     },
     "metadata": {
      "needs_background": "light"
     },
     "output_type": "display_data"
    }
   ],
   "source": [
    "plt.figure(figsize = [10,7])\n",
    "\n",
    "x = list(range(6))\n",
    "y = [0,1,2,2,2,3]\n",
    "\n",
    "plt.plot(x, y, marker = \".\")\n",
    "\n",
    "plt.xlabel(\"Число наблюдений\", fontsize = 15)\n",
    "plt.ylabel(\"$\\hat{S}_{\\hat{y}}$\", fontsize = 15)\n",
    "\n",
    "for x_val, y_val in zip(x, y):\n",
    "    plt.text(x_val, y_val + 0.05, x_val, fontsize = 14)\n",
    "\n",
    "plt.yticks(y)\n",
    "plt.grid()"
   ]
  },
  {
   "cell_type": "markdown",
   "id": "a69fcac2-7bf0-403f-bfba-4a0a5903044b",
   "metadata": {},
   "source": [
    "Интерпритация у $i$-й точки следующая: в $i$ худших, по мнению модели наблюдениях, лежит $\\hat{S}_{\\hat{y}_i}$ проявлений признака. Или для каждой точки:\n",
    "\n",
    "1. В 1 худших по менинию модели наблюдениях лежит 1 проявлений признака;\n",
    "1. В 2 худших по менинию модели наблюдениях лежит 2 проявлений признака;\n",
    "1. В 3 худших по менинию модели наблюдениях лежит 2 проявлений признака;\n",
    "1. В 4 худших по менинию модели наблюдениях лежит 2 проявлений признака;\n",
    "1. В 5 худших по менинию модели наблюдениях лежит 3 проявлений признака."
   ]
  },
  {
   "cell_type": "markdown",
   "id": "82c89c6d-116c-41e8-b125-81d526273dc4",
   "metadata": {
    "tags": []
   },
   "source": [
    "### Относительная CAP кривая\n",
    "\n",
    "Если по оси абсцысс откладывать не номер наблюдения $i$ а $i/n$ (где $n$ - число наблюдений на которых вычисляется CUP кривая) и по оси ординат откладывать не кумулятивную сумму, но кумулятивный процент (ecdf, $\\hat{F}_{\\hat{y}}$), то получиться так мной названная *относительная CAP* кривая, такая же по форме но ограниченная в единичном квадрате:\n",
    "<a id=\"last_tab_example\"></a>\n",
    "\n",
    "|$i$| $\\hat{p}_i$  | $$y_i$$ |$$\\hat{S}_{\\hat{y}}$$|$$i/n$$|$$\\hat{F}_{\\hat{y}}$$|\n",
    "|---| ------------ | ------- |---------------------|-------|---------------------|\n",
    "| 1 |     0.8      |    1    |        1            |  0.2  |          1/3        |\n",
    "| 2 |     0.7      |    1    |        2            |  0.4  |          2/3        |\n",
    "| 3 |     0.6      |    0    |        2            |  0.6  |          2/3        |\n",
    "| 4 |     0.4      |    0    |        2            |  0.8  |          2/3        |\n",
    "| 5 |     0.2      |    1    |        3            |   1   |           1         |"
   ]
  },
  {
   "cell_type": "code",
   "execution_count": 3,
   "id": "ff862af3-c32a-4bda-8a0f-e9122c648577",
   "metadata": {},
   "outputs": [
    {
     "data": {
      "image/png": "[encoded data removed]",
      "text/plain": [
       "<Figure size 720x504 with 1 Axes>"
      ]
     },
     "metadata": {
      "needs_background": "light"
     },
     "output_type": "display_data"
    }
   ],
   "source": [
    "plt.figure(figsize = [10,7])\n",
    "\n",
    "y_rel = [0, 1/3, 2/3, 2/3, 2/3, 1]\n",
    "x_rel = [i/5 for i in range(6)]\n",
    "\n",
    "plt.plot(\n",
    "    x_rel, y_rel, marker = \".\"\n",
    ")\n",
    "\n",
    "plt.xlabel(\"Доля наблюдений\", fontsize = 15)\n",
    "\n",
    "plt.ylabel(\"$\\hat{F}_{\\hat{y}}$\", fontsize = 15)\n",
    "\n",
    "for i, (x_val, y_val) in enumerate(zip(x_rel, y_rel)):\n",
    "    plt.text(x_val, y_val + 0.02, i, fontsize = 14)\n",
    "    \n",
    "plt.yticks(y_rel)\n",
    "plt.grid()"
   ]
  },
  {
   "cell_type": "markdown",
   "id": "ed6e88f7-0787-403c-bc93-4626e5de12e9",
   "metadata": {},
   "source": [
    "Интерпритация $i$-й точки будет следующая: в $i/n*100\\%$ худших, по мнению модели, наблюдениях лежит $\\hat{F}_{\\hat{y}i}*100\\%$ проявлений признака. Или для каждой точки в рассматриваемом примере:\n",
    "\n",
    "1. В 0% худших, по мнению модели, наблюдениях лежит 0% проявлений признака;\n",
    "1. В 20% худших, по мнению модели, наблюдениях лежит 33% проявлений признака;\n",
    "1. В 40% худших, по мнению модели, наблюдениях лежит 67% проявлений признака;\n",
    "1. В 60% худших, по мнению модели, наблюдениях лежит 67% проявлений признака;\n",
    "1. В 80% худших, по мнению модели, наблюдениях лежит 67% проявлений признака;\n",
    "1. В 100% худших, по мнению модели, наблюдениях лежит 100% проявлений признака.\n",
    "\n",
    "**Далее, по умолчанию, будет обсуждаться именно относительная CAP кривая, потому как она мне видится более применимой.**"
   ]
  },
  {
   "cell_type": "markdown",
   "id": "ef520d57-ddbf-4a0d-a736-3f635890253d",
   "metadata": {},
   "source": [
    "# Идеальная CAP кривая\n",
    "\n",
    "Играет важную роль в понимании механизма CAP кривой.\n",
    "\n",
    "\n",
    "### Описание"
   ]
  },
  {
   "cell_type": "markdown",
   "id": "db294415-9fec-4c52-837f-46b5a2707b31",
   "metadata": {},
   "source": [
    "Идеальный классификатор обладает следующим совойсвом - он из входной комбинации переменных, отписывающих наблюдение, $X_i$ может сделать такую дискриминирующую переменную $p_i$, чтобы:\n",
    "\n",
    "$$y_i=1,y_j=0 \\Rightarrow p_i>p_j; \\forall i,j; i\\neq j$$\n",
    "\n",
    "То есть для любых двух наблюдений ($i$-го и $j$-го) если одно имеет проявление признака а другое нет, то предсказание для перовго должно быть больше.\n",
    "\n",
    "В таких условиях, после сортировки по убыванию, все наблюдения с проявлением признака окажуться выше чем все наблюдения без проялвения признака. Следовательно CAP кривая будет расти только в начале, пока идут только наблюдения с проявлением признака. Так пока она не достигнет 1 - в точке соответсвующей самому низкому предсказанию для наблюдения с проявлением признака. Затем будет неизменна для всех наблюдений без проявления признака."
   ]
  },
  {
   "cell_type": "markdown",
   "id": "aa5e476e-a6da-4876-ac13-426665b9f389",
   "metadata": {},
   "source": [
    "### Демонстрация на примере\n",
    "\n",
    "Возвращаясь к примеру из прошлого раздела, [последняя рассмотренная таблица](#last_tab_example), в случае идеального классификатора должна была бы быть отсортирована так:\n",
    "\n",
    "|$i$| $\\hat{p}_i$  | $$y_i$$ |$$\\hat{S}_{\\hat{y}}$$|$$i/n$$|$$\\hat{F}_{\\hat{y}}$$|\n",
    "|---| ------------ | ------- |---------------------|-------|---------------------|\n",
    "| 1 |     0.8      |    1    |        1            |  0.2  |          1/3        |\n",
    "| 2 |     0.7      |    1    |        2            |  0.4  |          2/3        |\n",
    "| 3 |     0.2      |    1    |        2            |  0.6  |            1        |\n",
    "| 4 |     0.6      |    0    |        2            |  0.8  |            1        |\n",
    "| 5 |     0.4      |    0    |        3            |   1   |            1        |\n",
    "\n",
    "Все наблюдения с $y_i=1$ выше нежели наблюдения для которых $y_i=0$.<br>\n",
    "Добавим идеальную CAP кривую к прошлому графику."
   ]
  },
  {
   "cell_type": "code",
   "execution_count": 4,
   "id": "843e3fe2-8443-4ccf-9c79-c2586300e383",
   "metadata": {},
   "outputs": [
    {
     "data": {
      "image/png": "[encoded data removed]",
      "text/plain": [
       "<Figure size 720x504 with 1 Axes>"
      ]
     },
     "metadata": {
      "needs_background": "light"
     },
     "output_type": "display_data"
    }
   ],
   "source": [
    "plt.figure(figsize = [10,7])\n",
    "\n",
    "y_rel = [0, 1/3, 2/3, 2/3, 2/3, 1]\n",
    "y_rel_ideal = [0, 1/3, 2/3, 1, 1, 1]\n",
    "x_rel = [i/5 for i in range(6)]\n",
    "\n",
    "plt.plot(x_rel, y_rel, marker = \".\")\n",
    "plt.plot(x_rel, y_rel_ideal, marker = \".\")\n",
    "\n",
    "plt.xlabel(\"Доля наблюдений\", fontsize = 15)\n",
    "plt.ylabel(\"$\\hat{F}_{\\hat{y}}$\", fontsize = 15)\n",
    "\n",
    "plt.legend(\n",
    "    [\"Действительная CAP\", \"Идеальная CAP\"],\n",
    "    fontsize = 15\n",
    ")\n",
    "\n",
    "plt.yticks(y_rel)\n",
    "plt.grid()"
   ]
  },
  {
   "cell_type": "markdown",
   "id": "4ee7ac59-920e-4f03-ac61-9e9caa3d5a7f",
   "metadata": {},
   "source": [
    "# Случайная CAP кривая\n",
    "\n",
    "Вместе с идеальной исползуется для понимания насколько хороша или плоха та или иная модель."
   ]
  },
  {
   "cell_type": "markdown",
   "id": "7849c110-f1c9-48e8-879e-db37e0c2e9fb",
   "metadata": {},
   "source": [
    "### Описание\n",
    "\n",
    "Из рассуждений, предложенных выше, становиться понятно, что чем быстрее CUP кривая растет в начале, тем лучше оциниваемый классификатор. Понятно, что случайный классификатор будет образовывать CAP которая приростает равномерно на любой области доли рассмотренных наблюдений. Потому, в случае генеральной совокупности, это будет просто прямая протянутая от точки (0,0) до точки (1,1). В случае выборки это будет кривая с очень близкими (или, в некоторых случаях, совпадающими) характеристиками."
   ]
  },
  {
   "cell_type": "markdown",
   "id": "74c6218b-e9f0-4e6b-89d4-b172511c1afb",
   "metadata": {},
   "source": [
    "### Пример\n",
    "\n",
    "Рассмотрим вычислительный эксперимент: сэмитируем случайный классификатор и постоим для него CAP."
   ]
  },
  {
   "cell_type": "code",
   "execution_count": null,
   "id": "e449a23b-30de-4c3d-b1a7-465e5cbdae20",
   "metadata": {},
   "outputs": [],
   "source": [
    "sample_size = 500\n",
    "\n",
    "p_hat = np.random.rand(500)"
   ]
  },
  {
   "cell_type": "code",
   "execution_count": 5,
   "id": "3878733c-862c-46ad-9fd0-d16c2e28a5a5",
   "metadata": {},
   "outputs": [
    {
     "ename": "NameError",
     "evalue": "name 'data' is not defined",
     "output_type": "error",
     "traceback": [
      "\u001b[0;31m---------------------------------------------------------------------------\u001b[0m",
      "\u001b[0;31mNameError\u001b[0m                                 Traceback (most recent call last)",
      "Input \u001b[0;32mIn [5]\u001b[0m, in \u001b[0;36m<module>\u001b[0;34m\u001b[0m\n\u001b[1;32m      1\u001b[0m plt\u001b[38;5;241m.\u001b[39mscatter(\n\u001b[0;32m----> 2\u001b[0m     \u001b[43mdata\u001b[49m[\u001b[38;5;124m\"\u001b[39m\u001b[38;5;124mAge\u001b[39m\u001b[38;5;124m\"\u001b[39m], \n\u001b[1;32m      3\u001b[0m     data[\u001b[38;5;124m\"\u001b[39m\u001b[38;5;124mEstimatedSalary\u001b[39m\u001b[38;5;124m\"\u001b[39m],\n\u001b[1;32m      4\u001b[0m     c \u001b[38;5;241m=\u001b[39m data[\u001b[38;5;124m\"\u001b[39m\u001b[38;5;124mPurchased\u001b[39m\u001b[38;5;124m\"\u001b[39m]\n\u001b[1;32m      5\u001b[0m )\n",
      "\u001b[0;31mNameError\u001b[0m: name 'data' is not defined"
     ]
    }
   ],
   "source": [
    "plt.scatter(\n",
    "    data[\"Age\"], \n",
    "    data[\"EstimatedSalary\"],\n",
    "    c = data[\"Purchased\"]\n",
    ")"
   ]
  },
  {
   "cell_type": "code",
   "execution_count": null,
   "id": "9a35a74c-f745-4bd5-a03e-634b541a3ce3",
   "metadata": {},
   "outputs": [],
   "source": [
    "data = pd.read_csv(\"Social_Network_Ads.csv\")\n",
    "\n",
    "x = data.iloc[:, 2:4]\n",
    "y = data.iloc[:, 4]\n",
    "\n",
    "x_train, x_test, y_train, y_test = train_test_split(\n",
    "        x, y, test_size = 0.3, random_state = 0\n",
    ")\n",
    "\n",
    "classifier = RandomForestClassifier(n_estimators = 400)\n",
    " \n",
    "# training\n",
    "classifier.fit(x_train, y_train)\n",
    " \n",
    "# predicting\n",
    "pred = classifier.predict_proba(x_test)[:,1]\n",
    "\n",
    "# print(\"Accuracy : \", accuracy_score(y_test, pred) *  100)"
   ]
  },
  {
   "cell_type": "code",
   "execution_count": null,
   "id": "85e6bae6-861e-4151-8732-ca80b5f3b86a",
   "metadata": {},
   "outputs": [],
   "source": [
    "sorted(zip(pred, y_test), reverse = True)"
   ]
  },
  {
   "cell_type": "code",
   "execution_count": null,
   "id": "a0c7a536-26b6-40aa-b198-65483ee20cb4",
   "metadata": {
    "tags": []
   },
   "outputs": [],
   "source": [
    "# length of the test data\n",
    "total = len(y_test)\n",
    " \n",
    "# Counting '1' labels in test data\n",
    "one_count = np.sum(y_test)\n",
    " \n",
    "# counting '0' labels in test data\n",
    "zero_count = total - one_count\n",
    " \n",
    "plt.figure(figsize = (10, 6))\n",
    "\n",
    "lm = [y for _, y in sorted(zip(pred, y_test), reverse = True)]\n",
    "\n",
    "x = np.arange(0, total + 1)\n",
    "y = np.append([0], np.cumsum(lm))\n",
    "\n",
    "plt.plot(x, y, c = 'b', label = 'Random classifier', linewidth = 2)\n",
    "\n",
    "\n",
    "plt.plot(\n",
    "    [0, total], [0, one_count], c = 'b',\n",
    "    linestyle = '--', label = 'Random Model'\n",
    ")\n",
    "\n",
    "\n",
    "plt.legend()"
   ]
  },
  {
   "cell_type": "code",
   "execution_count": null,
   "id": "615f37b8-0dcd-4ecd-bf47-87a2f4c57f46",
   "metadata": {},
   "outputs": [],
   "source": [
    "model = LogisticRegression().fit(\n",
    "    data[[\"Age\", \"EstimatedSalary\"]], \n",
    "    data[\"Purchased\"]\n",
    ")"
   ]
  },
  {
   "cell_type": "code",
   "execution_count": null,
   "id": "cf90f1bb-a704-4eb0-8704-3e8dc38de624",
   "metadata": {},
   "outputs": [],
   "source": [
    "# length of the test data\n",
    "total = len(y_test)\n",
    " \n",
    "# Counting '1' labels in test data\n",
    "one_count = np.sum(y_test)\n",
    " \n",
    "# counting '0' labels in test data\n",
    "zero_count = total - one_count\n",
    " \n",
    "plt.figure(figsize = (10, 6))\n",
    " \n",
    "# x-axis ranges from 0 to total people contacted\n",
    "# y-axis ranges from 0 to the total positive outcomes.\n",
    " \n",
    "plt.plot([0, total], [0, one_count], c = 'b',\n",
    "         linestyle = '--', label = 'Random Model')\n",
    "plt.legend()"
   ]
  }
 ],
 "metadata": {
  "kernelspec": {
   "display_name": "Python 3 (ipykernel)",
   "language": "python",
   "name": "python3"
  },
  "language_info": {
   "codemirror_mode": {
    "name": "ipython",
    "version": 3
   },
   "file_extension": ".py",
   "mimetype": "text/x-python",
   "name": "python",
   "nbconvert_exporter": "python",
   "pygments_lexer": "ipython3",
   "version": "3.10.8"
  }
 },
 "nbformat": 4,
 "nbformat_minor": 5
}
