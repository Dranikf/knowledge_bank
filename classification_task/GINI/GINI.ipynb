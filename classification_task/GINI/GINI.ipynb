{
 "cells": [
  {
   "cell_type": "markdown",
   "id": "69e35323-ae75-46e9-baba-2533e738dbcd",
   "metadata": {},
   "source": [
    "**Описание того, что мне известно о показателе GINI (в задаче классификации)**\n",
    "\n",
    "GINI метрика используемая для определения качества классификационной модели."
   ]
  },
  {
   "cell_type": "code",
   "execution_count": 33,
   "id": "4c569623-215a-4a53-8edd-b05a1f3aa7e4",
   "metadata": {},
   "outputs": [],
   "source": [
    "import pandas as pd\n",
    "import numpy as np\n",
    "\n",
    "import matplotlib.pyplot as plt\n",
    "\n",
    "from statsmodels.distributions.empirical_distribution import ECDF\n",
    "np.random.seed(10)"
   ]
  },
  {
   "cell_type": "markdown",
   "id": "07af1d47-f4c4-4158-bbcb-d9786429085c",
   "metadata": {},
   "source": [
    "# Привычиное определение GINI\n",
    "\n",
    "Обычно GINI определяют через <a href=\"https://github.com/Dranikf/knowledge_bank/blob/main/classification_task/CAP/CAP.ipynb\">CAP кривую</a>.<br>\n",
    "GINI для некоторой модели, это отношение площадие между CAP кривой модели и случайной CAP кривой к площади между идеальной CAP и случайной CAP.\n",
    "\n",
    "Покажем на рисунке:"
   ]
  },
  {
   "cell_type": "code",
   "execution_count": 24,
   "id": "f9eb81e8-35f2-43b7-b8f5-258a6e5f5a52",
   "metadata": {},
   "outputs": [
    {
     "data": {
      "text/plain": [
       "count    490.000000\n",
       "mean       0.656849\n",
       "std        0.242903\n",
       "min        0.018674\n",
       "25%        0.474934\n",
       "50%        0.712939\n",
       "75%        0.853142\n",
       "max        0.998639\n",
       "Name: p_hat, dtype: float64"
      ]
     },
     "execution_count": 24,
     "metadata": {},
     "output_type": "execute_result"
    }
   ],
   "source": [
    "plot_data.query(\"y == 0\")[\"p_hat\"].describe()"
   ]
  },
  {
   "cell_type": "code",
   "execution_count": 23,
   "id": "6e29d442-9215-4cc5-8274-73ef40e1626c",
   "metadata": {},
   "outputs": [
    {
     "data": {
      "text/plain": [
       "count    510.000000\n",
       "mean       0.333626\n",
       "std        0.243698\n",
       "min        0.001760\n",
       "25%        0.122688\n",
       "50%        0.286265\n",
       "75%        0.525637\n",
       "max        0.910402\n",
       "Name: p_hat, dtype: float64"
      ]
     },
     "execution_count": 23,
     "metadata": {},
     "output_type": "execute_result"
    }
   ],
   "source": [
    "plot_data.query(\"y == 1\")[\"p_hat\"].describe()"
   ]
  },
  {
   "cell_type": "code",
   "execution_count": 56,
   "id": "eace4195-b95a-4d89-93b6-99d17b2af815",
   "metadata": {},
   "outputs": [
    {
     "data": {
      "text/html": [
       "<div>\n",
       "<style scoped>\n",
       "    .dataframe tbody tr th:only-of-type {\n",
       "        vertical-align: middle;\n",
       "    }\n",
       "\n",
       "    .dataframe tbody tr th {\n",
       "        vertical-align: top;\n",
       "    }\n",
       "\n",
       "    .dataframe thead th {\n",
       "        text-align: right;\n",
       "    }\n",
       "</style>\n",
       "<table border=\"1\" class=\"dataframe\">\n",
       "  <thead>\n",
       "    <tr style=\"text-align: right;\">\n",
       "      <th></th>\n",
       "      <th>p_hat</th>\n",
       "      <th>y</th>\n",
       "      <th>CAP_Y</th>\n",
       "    </tr>\n",
       "  </thead>\n",
       "  <tbody>\n",
       "    <tr>\n",
       "      <th>4</th>\n",
       "      <td>0.892947</td>\n",
       "      <td>1</td>\n",
       "      <td>1.0</td>\n",
       "    </tr>\n",
       "    <tr>\n",
       "      <th>1</th>\n",
       "      <td>0.708148</td>\n",
       "      <td>0</td>\n",
       "      <td>0.5</td>\n",
       "    </tr>\n",
       "    <tr>\n",
       "      <th>0</th>\n",
       "      <td>0.550798</td>\n",
       "      <td>1</td>\n",
       "      <td>0.5</td>\n",
       "    </tr>\n",
       "    <tr>\n",
       "      <th>3</th>\n",
       "      <td>0.510828</td>\n",
       "      <td>0</td>\n",
       "      <td>0.0</td>\n",
       "    </tr>\n",
       "    <tr>\n",
       "      <th>2</th>\n",
       "      <td>0.290905</td>\n",
       "      <td>0</td>\n",
       "      <td>0.0</td>\n",
       "    </tr>\n",
       "  </tbody>\n",
       "</table>\n",
       "</div>"
      ],
      "text/plain": [
       "      p_hat  y  CAP_Y\n",
       "4  0.892947  1    1.0\n",
       "1  0.708148  0    0.5\n",
       "0  0.550798  1    0.5\n",
       "3  0.510828  0    0.0\n",
       "2  0.290905  0    0.0"
      ]
     },
     "execution_count": 56,
     "metadata": {},
     "output_type": "execute_result"
    }
   ],
   "source": [
    "plot_data.sort_values(\"p_hat\", ascending = False)"
   ]
  },
  {
   "cell_type": "code",
   "execution_count": 55,
   "id": "cced571f-7f20-4496-b131-f1591fe1fe03",
   "metadata": {},
   "outputs": [
    {
     "data": {
      "text/plain": [
       "[<matplotlib.lines.Line2D at 0x7f2e13d16b60>]"
      ]
     },
     "execution_count": 55,
     "metadata": {},
     "output_type": "execute_result"
    },
    {
     "data": {
      "image/png": "[encoded data removed]",
      "text/plain": [
       "<Figure size 432x288 with 1 Axes>"
      ]
     },
     "metadata": {
      "needs_background": "light"
     },
     "output_type": "display_data"
    }
   ],
   "source": [
    "plot_ss = 5\n",
    "\n",
    "np.random.seed(3)\n",
    "random_range = np.random.rand(plot_ss)\n",
    "\n",
    "plot_data = pd.DataFrame({\n",
    "    \"p_hat\" : random_range,\n",
    "    \"y\" : map(\n",
    "        lambda r_val: np.random.choice(\n",
    "            [0, 1], p = [1 - r_val, r_val]\n",
    "        ), \n",
    "        random_range\n",
    "    )\n",
    "})\n",
    "\n",
    "plot_data[\"CAP_Y\"] = \\\n",
    "ECDF(\n",
    "    plot_data.query(\"y == 1\")[\"p_hat\"]\n",
    ")(\n",
    "    plot_data[\"p_hat\"]\n",
    ")\n",
    "\n",
    "plt.plot(\n",
    "    pd.Series(range(1, plot_ss + 1))/plot_ss,\n",
    "    plot_data[\"p_hat\"].sort_values()\n",
    ")"
   ]
  },
  {
   "cell_type": "markdown",
   "id": "4d3911ff-db83-461a-ab89-3cdfc69593be",
   "metadata": {},
   "source": [
    "# GINI через ROC"
   ]
  }
 ],
 "metadata": {
  "kernelspec": {
   "display_name": "Python 3 (ipykernel)",
   "language": "python",
   "name": "python3"
  },
  "language_info": {
   "codemirror_mode": {
    "name": "ipython",
    "version": 3
   },
   "file_extension": ".py",
   "mimetype": "text/x-python",
   "name": "python",
   "nbconvert_exporter": "python",
   "pygments_lexer": "ipython3",
   "version": "3.10.0"
  }
 },
 "nbformat": 4,
 "nbformat_minor": 5
}
