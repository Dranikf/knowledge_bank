{
 "cells": [
  {
   "cell_type": "markdown",
   "id": "bba665d2-5880-443d-b103-bd3e8ed64ab0",
   "metadata": {},
   "source": [
    "**Тут разбраны самые часто забываемые мной возможности `latex`**"
   ]
  },
  {
   "cell_type": "markdown",
   "id": "5eb10b8d-7085-4a40-b083-458120e970af",
   "metadata": {},
   "source": [
    "# Символы\n",
    "\n",
    "Всевозможнейшие символы `latex`. Источниками полсужили:\n",
    "- http://tex.imm.uran.ru/tex/2e/lshort2e/node52.html.\n",
    "\n",
    "Здесь для бысторого доступа я приведу лишь те сиволы, которые мне пригождались.\n",
    "\n",
    "`\\leq` - $\\leq$, `\\geq` - $\\geq$, `\\approx` - $\\approx$"
   ]
  },
  {
   "cell_type": "markdown",
   "id": "08cdfa9d-489f-45bd-9a82-4f42ee8bb6e7",
   "metadata": {},
   "source": [
    "# Оъединяющая скобка\n",
    "\n",
    "Для создания объединяющей под себя скобки в `latex` используется следующие инструкции:\n",
    "- \\begin{cases} <выражение>  \\\\end{cases} - поместит `выражение` под скобку;\n",
    "- \\\\\\\\ - для перехода к новой строке для выражения под скобкой.\n",
    "\n",
    "Например выражение:"
   ]
  },
  {
   "cell_type": "raw",
   "id": "63db839d-4fe9-4d99-a6ca-8ffc97402dc7",
   "metadata": {},
   "source": [
    "$$\\begin{cases}\n",
    "      line1; \\\\\n",
    "      line2.\n",
    "\\end{cases}$$"
   ]
  },
  {
   "cell_type": "markdown",
   "id": "1a228068-9be5-4fcf-b577-b082d0520609",
   "metadata": {},
   "source": [
    "Приведет к разметке:\n",
    "\n",
    "$$\\begin{cases}\n",
    "      line1; \\\\\n",
    "      line2.\n",
    "\\end{cases}$$"
   ]
  }
 ],
 "metadata": {
  "kernelspec": {
   "display_name": "Python 3 (ipykernel)",
   "language": "python",
   "name": "python3"
  },
  "language_info": {
   "codemirror_mode": {
    "name": "ipython",
    "version": 3
   },
   "file_extension": ".py",
   "mimetype": "text/x-python",
   "name": "python",
   "nbconvert_exporter": "python",
   "pygments_lexer": "ipython3",
   "version": "3.10.0"
  }
 },
 "nbformat": 4,
 "nbformat_minor": 5
}
