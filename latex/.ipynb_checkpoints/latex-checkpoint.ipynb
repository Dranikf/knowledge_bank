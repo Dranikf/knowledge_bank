{
 "cells": [
  {
   "cell_type": "markdown",
   "id": "bba665d2-5880-443d-b103-bd3e8ed64ab0",
   "metadata": {},
   "source": [
    "**Тут разбраны самые часто забываемые мной возможности `latex`**"
   ]
  },
  {
   "cell_type": "markdown",
   "id": "3abb95f9-53af-4b6d-b675-1f5ef4450a5e",
   "metadata": {},
   "source": [
    "# Символы\n",
    "\n",
    "Всевозможнейшие символы и конструкции `latex`. Источниками полсужили:\n",
    "- http://tex.imm.uran.ru/tex/2e/lshort2e/node52.html;\n",
    "- https://ido.tsuab.ru/mod/book/view.php?id=62&chapterid=23.\n",
    "\n",
    "Здесь для бысторого доступа я приведу лишь те сиволы, которые мне пригождались."
   ]
  },
  {
   "cell_type": "markdown",
   "id": "ddd981d2-d9aa-4b16-80c0-879264f52f75",
   "metadata": {},
   "source": [
    "### Знаки для сравнения\n",
    "\n",
    "`\\leq` - $\\leq$, `\\geq` - $\\geq$, `\\approx` - $\\approx$"
   ]
  },
  {
   "cell_type": "markdown",
   "id": "7497f681-95ff-4ec4-ad7f-136b63795d2a",
   "metadata": {},
   "source": [
    "### Знаки для докаазательства"
   ]
  },
  {
   "cell_type": "markdown",
   "id": "797c18ed-0461-45d9-bf7d-61c1d135011e",
   "metadata": {},
   "source": [
    "`\\forall` - $\\forall$, `\\Leftarrow` - $\\Leftarrow$, `\\Rightarrow` - $\\Rightarrow$, `\\Leftrightarrow` - $\\Leftrightarrow$, `\\boxtimes` - $\\boxtimes$."
   ]
  },
  {
   "cell_type": "markdown",
   "id": "50f35fb1-bb2b-4533-b82a-c62f68dcbdae",
   "metadata": {},
   "source": [
    "### Греческий алфавит\n",
    "\n",
    "`\\varepsilon` - $\\varepsilon$"
   ]
  },
  {
   "cell_type": "markdown",
   "id": "709ea7d1-8c20-4364-b519-814a0b6e8025",
   "metadata": {},
   "source": [
    "### Выделения над символами"
   ]
  },
  {
   "cell_type": "markdown",
   "id": "9424eca4-0204-4cee-a29f-eb1ef63488ae",
   "metadata": {},
   "source": [
    "- `\\tilde{ffff}` - $\\tilde{ffff}$, `\\widetilde{ffff}` - $\\widetilde{ffff}$;\n",
    "- `\\hat{ffff}` - $\\hat{ffff}$, `\\widehat{ffff}` - $\\widehat{ffff}$;\n",
    "- `\\bar{ffff}` - $\\bar{ffff}$, `\\overline{ffff}` - $\\overline{ffff}$."
   ]
  },
  {
   "cell_type": "markdown",
   "id": "08cdfa9d-489f-45bd-9a82-4f42ee8bb6e7",
   "metadata": {},
   "source": [
    "# Оъединяющая скобка\n",
    "\n",
    "Для создания объединяющей под себя скобки в `latex` используется следующие инструкции:\n",
    "- \\begin{cases} <выражение>  \\\\end{cases} - поместит `выражение` под скобку;\n",
    "- \\\\\\\\ - для перехода к новой строке для выражения под скобкой.\n",
    "\n",
    "Например выражение:"
   ]
  },
  {
   "cell_type": "markdown",
   "id": "c28d7433-6519-4b4e-804a-aa9cb8e94c86",
   "metadata": {},
   "source": [
    "    $$\\begin{cases}\n",
    "          line1; \\\\\n",
    "          line2.\n",
    "    \\end{cases}$$"
   ]
  },
  {
   "cell_type": "markdown",
   "id": "1a228068-9be5-4fcf-b577-b082d0520609",
   "metadata": {},
   "source": [
    "Приведет к разметке:\n",
    "\n",
    "$$\\begin{cases}\n",
    "      line1; \\\\\n",
    "      line2.\n",
    "\\end{cases}$$"
   ]
  },
  {
   "cell_type": "markdown",
   "id": "98259f83-1457-4dc3-bd00-c1135b2aad1d",
   "metadata": {},
   "source": [
    "# Нумерация выражений производится\n",
    "\n",
    "С использованем комманды `\\tag`\n",
    "\n",
    "Например, выражение:"
   ]
  },
  {
   "cell_type": "markdown",
   "id": "c0187e55-27b1-4b59-896b-f7c2d785253f",
   "metadata": {},
   "source": [
    "    $$\\frac{\\delta}{\\gamma} \\tag{hello}$$"
   ]
  },
  {
   "cell_type": "markdown",
   "id": "140080d3-9c0e-4066-acbc-4d9c220ea8d7",
   "metadata": {},
   "source": [
    "$$\\frac{\\delta}{\\gamma} \\tag{hello}$$"
   ]
  },
  {
   "cell_type": "markdown",
   "id": "0b182208-a66a-44bb-8aa8-b4b50ff173d1",
   "metadata": {},
   "source": [
    "# Закрыть выражение скобкой"
   ]
  },
  {
   "cell_type": "markdown",
   "id": "1e40a37c-e45a-4d7c-a3df-ddf6674f112a",
   "metadata": {},
   "source": [
    "Выражение по типу:\n",
    "\n",
    "    $$[\\frac{\\sum_i^n}{\\prod_i^n}]$$\n",
    "    \n",
    "Будет интерпритировано так:\n",
    "    \n",
    "$$[\\frac{\\sum_i^n}{\\prod_i^n}]$$\n",
    "\n",
    "Проблема в том, что квадратная скобра полностью не закрывает выражение которое окружает. Для того, чтобы исправить это надо перед открвыющей скобкой поставить тег `$\\left$` а перед закрывающей `$\\right$`. То есть выражение:\n",
    "\n",
    "    $$\\left[\\frac{\\sum_i^n}{\\prod_i^n}\\right]$$\n",
    "    \n",
    "Которое будет интерпритировано так:\n",
    "\n",
    "$$\\left[\\frac{\\sum_i^n}{\\prod_i^n}\\right]$$"
   ]
  }
 ],
 "metadata": {
  "kernelspec": {
   "display_name": "Python 3 (ipykernel)",
   "language": "python",
   "name": "python3"
  },
  "language_info": {
   "codemirror_mode": {
    "name": "ipython",
    "version": 3
   },
   "file_extension": ".py",
   "mimetype": "text/x-python",
   "name": "python",
   "nbconvert_exporter": "python",
   "pygments_lexer": "ipython3",
   "version": "3.10.8"
  }
 },
 "nbformat": 4,
 "nbformat_minor": 5
}
