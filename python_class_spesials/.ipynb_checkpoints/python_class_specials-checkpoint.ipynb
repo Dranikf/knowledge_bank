{
 "cells": [
  {
   "cell_type": "markdown",
   "id": "eeac06f8-7b84-49e5-a3c5-83b69d6af1b9",
   "metadata": {},
   "source": [
    "**Разбор спецальных меодов/полей в языке программирования `python3`**"
   ]
  },
  {
   "cell_type": "markdown",
   "id": "ce4ec95b-9968-4149-ba0f-8b9a0c25765b",
   "metadata": {},
   "source": [
    "# Источники информации\n",
    "\n",
    "- Python на примерах Васильев А.Н. глава 8, раздел *Специальные методы и поля*"
   ]
  },
  {
   "cell_type": "markdown",
   "id": "ceb871b3-c2b9-40bf-927e-1ad9201b463c",
   "metadata": {},
   "source": [
    "# Классы которые послужат примером"
   ]
  },
  {
   "cell_type": "markdown",
   "id": "9d40d0c0-e93b-43ec-86fd-49580640d26c",
   "metadata": {},
   "source": [
    "Специальные методы и поля начинаются и заканчиваются двумя подчеркиваниями. Далее рассмотрим класс на примере которого будут разобраны возможности всех специальных методов/полей."
   ]
  },
  {
   "cell_type": "code",
   "execution_count": 22,
   "id": "0119f43c-307e-4c71-9786-b0e0cbaf1b9c",
   "metadata": {},
   "outputs": [],
   "source": [
    "class TechThing():\n",
    "    '''\n",
    "        Класс \"технологическая штука\"\n",
    "        исопльзуется для изучения фишек связаных\n",
    "        с наследованием\n",
    "    '''\n",
    "    find_field = \"find field of TechThing\"\n",
    "\n",
    "class Machine(TechThing):\n",
    "    '''\n",
    "        Класс \"Машина\" используется для изучения\n",
    "        фишек связанных с наследованием\n",
    "    '''\n",
    "    pass\n",
    "\n",
    "class Veicle():\n",
    "    '''\n",
    "        Класс \"Средсво передвижения\" используется\n",
    "        для исследования фишек связанных с наследованием\n",
    "    '''\n",
    "    find_field = \"find field of Veicle\"\n",
    "\n",
    "class Auto(Veicle, Machine):\n",
    "    '''\n",
    "        Класс \"Автомобиль\" исопльзуется для \n",
    "        создания изучения специальных методов и полей\n",
    "    '''\n",
    "    \n",
    "    class hundle():\n",
    "        pass\n",
    "    \n",
    "    atribute_var = 5\n",
    "    \n",
    "    def atribute_method(self):\n",
    "        pass\n",
    "    \n",
    "    def __init__(self, marka):\n",
    "        '''\n",
    "            Вызывается при создании любого экземпляра\n",
    "        '''\n",
    "        self.marka = marka\n",
    "    \n",
    "    def __del__(self):\n",
    "        '''\n",
    "            Вызывается при удалении любого экземпляра\n",
    "        '''\n",
    "        print(self.marka, \"удачно был удален\")\n",
    "        \n",
    "    def __call__(self):\n",
    "        '''\n",
    "            Вызывается при вызове какого-либо экземпляра класса\n",
    "        '''\n",
    "        return \"вы вызвали \" + self.marka\n",
    "    \n",
    "    def __bool__(self):\n",
    "        '''\n",
    "            Будет вызван для экземпляра переданного\n",
    "            базовой функции bool.\n",
    "            В данном случае я наделю её следующим смыслом - \n",
    "            если для экземпляра была определено поле marka\n",
    "            то будет преобзовываться в True в противном случае\n",
    "            в False\n",
    "        '''\n",
    "        return False if self.marka == None else True"
   ]
  },
  {
   "cell_type": "markdown",
   "id": "124f5875-31a0-4f9d-a3fa-91be7b412b8a",
   "metadata": {},
   "source": [
    "# **Методы**"
   ]
  },
  {
   "cell_type": "markdown",
   "id": "7549ee03-5058-4298-b15a-caabbcd1c944",
   "metadata": {},
   "source": [
    "### `__init__`\n",
    "Будет вызван при создании экземпляра класса"
   ]
  },
  {
   "cell_type": "code",
   "execution_count": 2,
   "id": "a3a03eec-d7e3-4272-b5ea-9f06f33926e4",
   "metadata": {},
   "outputs": [
    {
     "name": "stdout",
     "output_type": "stream",
     "text": [
      "mersedes удачно был удален\n"
     ]
    },
    {
     "data": {
      "text/plain": [
       "'mersedes'"
      ]
     },
     "execution_count": 2,
     "metadata": {},
     "output_type": "execute_result"
    }
   ],
   "source": [
    "Auto(\"mersedes\").marka"
   ]
  },
  {
   "cell_type": "markdown",
   "id": "4e7f8260-45c9-4503-87a3-699f6ebe155c",
   "metadata": {},
   "source": [
    "### `__del__`\n",
    "\n",
    "Будет вызван при удалении экземпляра класса"
   ]
  },
  {
   "cell_type": "code",
   "execution_count": 3,
   "id": "ef070cc2-c36c-4e02-9a45-133e355be857",
   "metadata": {},
   "outputs": [
    {
     "name": "stdout",
     "output_type": "stream",
     "text": [
      "москвич удачно был удален\n"
     ]
    }
   ],
   "source": [
    "a = Auto(\"москвич\")\n",
    "del a"
   ]
  },
  {
   "cell_type": "markdown",
   "id": "a1c1c5e1-b70b-4aab-9e05-9aef5acee042",
   "metadata": {},
   "source": [
    "### `__call__`\n",
    "\n",
    "Вызывается при попытке \"вызвать\" экземпляр класса, то есть ипользование оператора `()` для экземплара класса."
   ]
  },
  {
   "cell_type": "code",
   "execution_count": 18,
   "id": "6ff6571d-2fb2-4760-87a4-7651d085a663",
   "metadata": {},
   "outputs": [
    {
     "name": "stdout",
     "output_type": "stream",
     "text": [
      "tesla удачно был удален\n"
     ]
    },
    {
     "data": {
      "text/plain": [
       "'вы вызвали tesla'"
      ]
     },
     "execution_count": 18,
     "metadata": {},
     "output_type": "execute_result"
    }
   ],
   "source": [
    "Auto(\"tesla\")()"
   ]
  },
  {
   "cell_type": "markdown",
   "id": "2a749a2e-c8f0-4ff3-9a68-c21352634100",
   "metadata": {},
   "source": [
    "## *Методы приведения к типу*"
   ]
  },
  {
   "cell_type": "markdown",
   "id": "a10c6096-157c-4745-9d0b-8bdfb12cff1e",
   "metadata": {},
   "source": [
    "### `__bool__`\n",
    "\n",
    "Этот метод будет вызван для любого экземпляра переданного в базовую функцию `bool`"
   ]
  },
  {
   "cell_type": "code",
   "execution_count": 24,
   "id": "bc2da9d8-dd29-4d59-b3cc-0548a2ac31bf",
   "metadata": {},
   "outputs": [
    {
     "name": "stdout",
     "output_type": "stream",
     "text": [
      "Gili удачно был удален\n",
      "Gili result True\n",
      "None удачно был удален\n",
      "None result False\n"
     ]
    }
   ],
   "source": [
    "print(\"Gili result\", bool(Auto(\"Gili\")))\n",
    "print(\"None result\", bool(Auto(None)))"
   ]
  },
  {
   "cell_type": "markdown",
   "id": "98ce40ed-dc1a-4f7f-9c7e-65a22ce72fe1",
   "metadata": {},
   "source": []
  },
  {
   "cell_type": "markdown",
   "id": "434b0e04-f96e-422a-8410-a3b579eceb7c",
   "metadata": {},
   "source": [
    "# **Поля** классов"
   ]
  },
  {
   "cell_type": "markdown",
   "id": "45ec29c7-21e6-48c4-b2b8-bb2c40c32c32",
   "metadata": {},
   "source": [
    "### `__bases__`\n",
    "\n",
    "Возвраящет список базовых классов"
   ]
  },
  {
   "cell_type": "code",
   "execution_count": 4,
   "id": "9d5732a0-7020-4b78-bbb2-3d53bb92be39",
   "metadata": {},
   "outputs": [
    {
     "data": {
      "text/plain": [
       "(__main__.Veicle, __main__.Machine)"
      ]
     },
     "execution_count": 4,
     "metadata": {},
     "output_type": "execute_result"
    }
   ],
   "source": [
    "Auto.__bases__"
   ]
  },
  {
   "cell_type": "markdown",
   "id": "702edf54-db33-4cde-9f5d-ee11105b045e",
   "metadata": {},
   "source": [
    "### `__dict__`\n",
    "\n",
    "Слварь с атрибутами класса. **Атрибутом** класса называется, что-либо объявленное в глобальном пространсве класса."
   ]
  },
  {
   "cell_type": "code",
   "execution_count": 5,
   "id": "8ae4f721-60ee-4501-be74-f4763e38a609",
   "metadata": {},
   "outputs": [
    {
     "data": {
      "text/plain": [
       "mappingproxy({'__module__': '__main__',\n",
       "              '__doc__': '\\n        Класс \"Автомобиль\" исопльзуется для \\n        создания изучения специальных методов и полей\\n    ',\n",
       "              'atribute_var': 5,\n",
       "              'atribute_method': <function __main__.Auto.atribute_method(self)>,\n",
       "              '__init__': <function __main__.Auto.__init__(self, marka)>,\n",
       "              '__del__': <function __main__.Auto.__del__(self)>})"
      ]
     },
     "execution_count": 5,
     "metadata": {},
     "output_type": "execute_result"
    }
   ],
   "source": [
    "Auto.__dict__"
   ]
  },
  {
   "cell_type": "markdown",
   "id": "2a07058a-9ffa-44df-8c0c-a57255e559b2",
   "metadata": {},
   "source": [
    "### `__doc__`\n",
    "\n",
    "Док-строка класса"
   ]
  },
  {
   "cell_type": "code",
   "execution_count": 6,
   "id": "c66ecba8-3d3a-4daf-8ad7-9275318bf6d5",
   "metadata": {},
   "outputs": [
    {
     "name": "stdout",
     "output_type": "stream",
     "text": [
      "\n",
      "        Класс \"Автомобиль\" исопльзуется для \n",
      "        создания изучения специальных методов и полей\n",
      "    \n"
     ]
    }
   ],
   "source": [
    "print(Auto.__doc__)"
   ]
  },
  {
   "cell_type": "markdown",
   "id": "5bdd0106-5e7f-45fe-bc62-dad0c7a5f789",
   "metadata": {},
   "source": [
    "### `__module__`\n",
    "\n",
    "Возвращается модуль класса"
   ]
  },
  {
   "cell_type": "code",
   "execution_count": 7,
   "id": "5e415db5-c271-4a01-b628-2c966d539eb8",
   "metadata": {},
   "outputs": [
    {
     "data": {
      "text/plain": [
       "'pandas.core.frame'"
      ]
     },
     "execution_count": 7,
     "metadata": {},
     "output_type": "execute_result"
    }
   ],
   "source": [
    "import pandas as pd\n",
    "\n",
    "pd.DataFrame.__module__"
   ]
  },
  {
   "cell_type": "markdown",
   "id": "ea0e1e4f-7c82-42d3-b771-7143fb3372f1",
   "metadata": {},
   "source": [
    "### `__mro__`\n",
    "\n",
    "Цепочка наследования класса. А именно последовантельность классов в котороых будут искаться те или иные вызываемые поля.<br>\n",
    "Идея приводимого моной тут примера в следующем - я создаю `Auto` и пытаюсь достать из него `find_field`, который определен только в наследниках. В результате будет выведен `find_field` того класса который в результатах `__mro__` ближайший и, при том, имеет определение поля `find_field`."
   ]
  },
  {
   "cell_type": "code",
   "execution_count": 8,
   "id": "9e78ca3e-df59-4e39-afa7-c560c44d5092",
   "metadata": {},
   "outputs": [
    {
     "data": {
      "text/plain": [
       "(__main__.Auto, __main__.Veicle, __main__.Machine, __main__.TechThing, object)"
      ]
     },
     "execution_count": 8,
     "metadata": {},
     "output_type": "execute_result"
    }
   ],
   "source": [
    "Auto.__mro__"
   ]
  },
  {
   "cell_type": "code",
   "execution_count": 9,
   "id": "caca6056-68d9-4deb-af41-780c1c8e5096",
   "metadata": {},
   "outputs": [
    {
     "name": "stdout",
     "output_type": "stream",
     "text": [
      "chevrolet удачно был удален\n"
     ]
    },
    {
     "data": {
      "text/plain": [
       "'find field of Veicle'"
      ]
     },
     "execution_count": 9,
     "metadata": {},
     "output_type": "execute_result"
    }
   ],
   "source": [
    "Auto(\"chevrolet\").find_field"
   ]
  },
  {
   "cell_type": "markdown",
   "id": "6225ded6-f5c8-45b0-8d45-01c9b4ce4b5a",
   "metadata": {},
   "source": [
    "Вызывая `find_field` я наткнулся на принадлежащий классу `Veicle`, то есть певого в кортеже `__mro__` его объявляющего."
   ]
  },
  {
   "cell_type": "markdown",
   "id": "90fccc7f-2dd1-4bca-b4a4-7958c360ca22",
   "metadata": {},
   "source": [
    "**Заметим**, интерестную деталь которую я выяснил работая над этим файлом: при вызове поля атрибута класса из только созданного объекта IPython после завершения выполнения ячейки производит удаление только, что созданного экземпляра."
   ]
  },
  {
   "cell_type": "markdown",
   "id": "38baf769-3663-45f4-968a-411693b0c84c",
   "metadata": {},
   "source": [
    "<img src=\"Ipython_obj_deleting.png\">"
   ]
  },
  {
   "cell_type": "markdown",
   "id": "c52edffa-127f-41f8-8608-632d0f6e2d0c",
   "metadata": {},
   "source": [
    "Интерпритатор, понятное дело, ведет себя аналогично.\n",
    "\n",
    "<img src=\"python_obj_deleting.png\">"
   ]
  },
  {
   "cell_type": "markdown",
   "id": "2eb1f3d2-790f-4854-9304-ddc4922fe5fe",
   "metadata": {},
   "source": [
    "### `__name__` \n",
    "Возвращает имя класса"
   ]
  },
  {
   "cell_type": "code",
   "execution_count": 10,
   "id": "6fb8c38b-61be-43ad-af33-238ceac70af7",
   "metadata": {},
   "outputs": [
    {
     "data": {
      "text/plain": [
       "'Auto'"
      ]
     },
     "execution_count": 10,
     "metadata": {},
     "output_type": "execute_result"
    }
   ],
   "source": [
    "Auto.__name__"
   ]
  },
  {
   "cell_type": "markdown",
   "id": "7aa8e663-cf42-4b71-95e8-d1b1ce66c6f7",
   "metadata": {},
   "source": [
    "### `__qualname__`\n",
    "\n",
    "Дословно поле описываю так: \"возвращается полное имя класса в точечном формате, отображающем структуру вложенных классов\". Я понимаю это так, если я вызову у класса `hundle` который объявлен в нутри класса `Auto` \n",
    "то поле, то я полулу полное имя класса в точечном формате."
   ]
  },
  {
   "cell_type": "code",
   "execution_count": 10,
   "id": "6eecc4a0-0b7c-48e8-8840-2cf7a15930ea",
   "metadata": {},
   "outputs": [
    {
     "data": {
      "text/plain": [
       "'Auto.hundle'"
      ]
     },
     "execution_count": 10,
     "metadata": {},
     "output_type": "execute_result"
    }
   ],
   "source": [
    "Auto.hundle.__qualname__"
   ]
  },
  {
   "cell_type": "markdown",
   "id": "34773031-06a5-4daa-8009-de091761e8bb",
   "metadata": {},
   "source": [
    "Для сравнения результат вызова поля `__name__` того же класса."
   ]
  },
  {
   "cell_type": "code",
   "execution_count": 11,
   "id": "1c27a27a-c18f-4307-8398-3a3e0a25b0a8",
   "metadata": {},
   "outputs": [
    {
     "data": {
      "text/plain": [
       "'hundle'"
      ]
     },
     "execution_count": 11,
     "metadata": {},
     "output_type": "execute_result"
    }
   ],
   "source": [
    "Auto.hundle.__name__"
   ]
  },
  {
   "cell_type": "markdown",
   "id": "86eea237-87f3-4485-b332-cb6e80cedb7c",
   "metadata": {},
   "source": [
    "# **Поля** экземпляров"
   ]
  },
  {
   "cell_type": "markdown",
   "id": "f2b50df2-6dfd-4999-831f-f462b8e47766",
   "metadata": {},
   "source": [
    "### `__class__`\n",
    "\n",
    "Это поле содержит название класса которому принадлежт объект. Далее пару примеров"
   ]
  },
  {
   "cell_type": "code",
   "execution_count": 13,
   "id": "324e294f-1d94-4e38-80d0-846e088c57bb",
   "metadata": {},
   "outputs": [
    {
     "data": {
      "text/plain": [
       "__main__.Auto"
      ]
     },
     "execution_count": 13,
     "metadata": {},
     "output_type": "execute_result"
    }
   ],
   "source": [
    "a1 = Auto(\"BMW\")\n",
    "a1.__class__"
   ]
  },
  {
   "cell_type": "code",
   "execution_count": 15,
   "id": "4f6788a5-9ed9-4134-b8cf-4892258efb94",
   "metadata": {},
   "outputs": [
    {
     "data": {
      "text/plain": [
       "pandas.core.frame.DataFrame"
      ]
     },
     "execution_count": 15,
     "metadata": {},
     "output_type": "execute_result"
    }
   ],
   "source": [
    "import pandas as pd\n",
    "\n",
    "pd.DataFrame({\n",
    "    \"1\" : [1,2]\n",
    "}).__class__"
   ]
  },
  {
   "cell_type": "markdown",
   "id": "a5dd0a1c-8687-47d5-a1bc-53a686ea4064",
   "metadata": {},
   "source": [
    "Заметим, что сами классы это тоже эксемпляры класса `type`"
   ]
  },
  {
   "cell_type": "code",
   "execution_count": 16,
   "id": "6c18393e-51bf-4c58-9556-99cca9e4c0dd",
   "metadata": {},
   "outputs": [
    {
     "data": {
      "text/plain": [
       "type"
      ]
     },
     "execution_count": 16,
     "metadata": {},
     "output_type": "execute_result"
    }
   ],
   "source": [
    "Auto.__class__"
   ]
  }
 ],
 "metadata": {
  "kernelspec": {
   "display_name": "Python 3 (ipykernel)",
   "language": "python",
   "name": "python3"
  },
  "language_info": {
   "codemirror_mode": {
    "name": "ipython",
    "version": 3
   },
   "file_extension": ".py",
   "mimetype": "text/x-python",
   "name": "python",
   "nbconvert_exporter": "python",
   "pygments_lexer": "ipython3",
   "version": "3.10.7"
  }
 },
 "nbformat": 4,
 "nbformat_minor": 5
}
